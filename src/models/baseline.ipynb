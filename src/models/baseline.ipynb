{
  "nbformat": 4,
  "nbformat_minor": 0,
  "metadata": {
    "colab": {
      "name": "Part1.ipynb",
      "provenance": [],
      "collapsed_sections": []
    },
    "kernelspec": {
      "display_name": "Python 3",
      "name": "python3"
    },
    "language_info": {
      "name": "python"
    }
  },
  "cells": [
    {
      "cell_type": "code",
      "metadata": {
        "colab": {
          "base_uri": "https://localhost:8080/"
        },
        "id": "HtDD-ueGgYcj",
        "outputId": "ef3992c2-82d2-44b1-db03-0318aac80acb"
      },
      "source": [
        "from google.colab import drive\n",
        "drive.mount('/content/drive')"
      ],
      "execution_count": 2,
      "outputs": [
        {
          "output_type": "stream",
          "text": [
            "Mounted at /content/drive\n"
          ],
          "name": "stdout"
        }
      ]
    },
    {
      "cell_type": "code",
      "metadata": {
        "colab": {
          "base_uri": "https://localhost:8080/"
        },
        "id": "PVeoUCR_gsis",
        "outputId": "0e0fc03d-b9b3-480b-bb88-b071cb77653d"
      },
      "source": [
        "import pandas as pd\n",
        "import nltk\n",
        "nltk.download('punkt')"
      ],
      "execution_count": 3,
      "outputs": [
        {
          "output_type": "stream",
          "text": [
            "[nltk_data] Downloading package punkt to /root/nltk_data...\n",
            "[nltk_data]   Unzipping tokenizers/punkt.zip.\n"
          ],
          "name": "stdout"
        },
        {
          "output_type": "execute_result",
          "data": {
            "text/plain": [
              "True"
            ]
          },
          "metadata": {
            "tags": []
          },
          "execution_count": 3
        }
      ]
    },
    {
      "cell_type": "code",
      "metadata": {
        "colab": {
          "base_uri": "https://localhost:8080/"
        },
        "id": "2CwVfb4ahEHT",
        "outputId": "7cfa9242-de20-41da-e0f3-7fa689fa12b7"
      },
      "source": [
        "!pip install fuzzywuzzy"
      ],
      "execution_count": 4,
      "outputs": [
        {
          "output_type": "stream",
          "text": [
            "Collecting fuzzywuzzy\n",
            "  Downloading https://files.pythonhosted.org/packages/43/ff/74f23998ad2f93b945c0309f825be92e04e0348e062026998b5eefef4c33/fuzzywuzzy-0.18.0-py2.py3-none-any.whl\n",
            "Installing collected packages: fuzzywuzzy\n",
            "Successfully installed fuzzywuzzy-0.18.0\n"
          ],
          "name": "stdout"
        }
      ]
    },
    {
      "cell_type": "code",
      "metadata": {
        "colab": {
          "base_uri": "https://localhost:8080/"
        },
        "id": "f5QwThls3Zf5",
        "outputId": "0aa4e850-f43f-4132-9adf-e209e2c064c6"
      },
      "source": [
        "import pickle\n",
        "\n",
        "import numpy as np\n",
        "import gensim\n",
        "from fuzzywuzzy import fuzz\n",
        "from nltk.corpus import stopwords\n",
        "from tqdm import tqdm\n",
        "from scipy.stats import skew, kurtosis\n",
        "from scipy.spatial.distance import cosine, cityblock, jaccard, canberra, euclidean, minkowski, braycurtis\n",
        "from nltk import word_tokenize\n",
        "import nltk\n",
        "from sklearn.feature_extraction.text import CountVectorizer, TfidfVectorizer\n",
        "nltk.download('stopwords')\n",
        "stop_words = stopwords.words('english')"
      ],
      "execution_count": 5,
      "outputs": [
        {
          "output_type": "stream",
          "text": [
            "[nltk_data] Downloading package stopwords to /root/nltk_data...\n",
            "[nltk_data]   Unzipping corpora/stopwords.zip.\n"
          ],
          "name": "stdout"
        },
        {
          "output_type": "stream",
          "text": [
            "/usr/local/lib/python3.7/dist-packages/fuzzywuzzy/fuzz.py:11: UserWarning: Using slow pure-python SequenceMatcher. Install python-Levenshtein to remove this warning\n",
            "  warnings.warn('Using slow pure-python SequenceMatcher. Install python-Levenshtein to remove this warning')\n"
          ],
          "name": "stderr"
        }
      ]
    },
    {
      "cell_type": "code",
      "metadata": {
        "id": "J8eUHFXjH4hg"
      },
      "source": [
        "import keras, nltk\n",
        "from keras.preprocessing.text import Tokenizer\n",
        "from keras.preprocessing.sequence import pad_sequences\n",
        "from nltk.tokenize import word_tokenize\n",
        "import re\n",
        "from nltk.stem import WordNetLemmatizer\n",
        "from nltk.corpus import stopwords\n",
        "from nltk.stem import SnowballStemmer\n",
        "import tensorflow as tf\n",
        "from tensorflow.keras.layers import *\n",
        "from tensorflow.keras.models import Model\n",
        "from sklearn.metrics import f1_score"
      ],
      "execution_count": 231,
      "outputs": []
    },
    {
      "cell_type": "markdown",
      "metadata": {
        "id": "xxdcyP2Nhk_j"
      },
      "source": [
        "##Data Cleaning"
      ]
    },
    {
      "cell_type": "code",
      "metadata": {
        "id": "_wwZP8sbhkn_"
      },
      "source": [
        ""
      ],
      "execution_count": null,
      "outputs": []
    },
    {
      "cell_type": "code",
      "metadata": {
        "id": "siXFQowWHUp8"
      },
      "source": [
        "def review_to_wordlist(review, remove_stopwords=True):\n",
        "  if(type(review) is str):\n",
        "    words = review.lower().split()\n",
        "  else:\n",
        "    words = str(review).lower().split()\n",
        "  if remove_stopwords:\n",
        "      stops = set(stopwords.words(\"english\"))\n",
        "      words = [w for w in words if not w in stops]\n",
        "  \n",
        "    \n",
        "  review_text = \" \".join(words)\n",
        "  review_text = re.sub(r\"[^A-Za-z0-9(),!.?\\'\\`]\", \" \", review_text)\n",
        "  review_text = re.sub(r\"\\'s\", \" 's \", review_text)\n",
        "  review_text = re.sub(r\"\\'ve\", \" 've \", review_text)\n",
        "  review_text = re.sub(r\"n\\'t\", \" 't \", review_text)\n",
        "  review_text = re.sub(r\"\\'re\", \" 're \", review_text)\n",
        "  review_text = re.sub(r\"\\'d\", \" 'd \", review_text)\n",
        "  review_text = re.sub(r\"\\'ll\", \" 'll \", review_text)\n",
        "  review_text = re.sub(r\",\", \" \", review_text)\n",
        "  review_text = re.sub(r\"\\.\", \" \", review_text)\n",
        "  review_text = re.sub(r\"!\", \" \", review_text)\n",
        "  review_text = re.sub(r\"\\(\", \" ( \", review_text)\n",
        "  review_text = re.sub(r\"\\)\", \" ) \", review_text)\n",
        "  review_text = re.sub(r\"\\?\", \" \", review_text)\n",
        "  review_text = re.sub(r\"\\s{2,}\", \" \", review_text)\n",
        "  \n",
        "  words = review_text.split()\n",
        "  # Shorten words to their stems\n",
        "  stemmer = SnowballStemmer('english')\n",
        "  stemmed_words = [stemmer.stem(word) for word in words]\n",
        "  \n",
        "  review_text = \" \".join(stemmed_words)\n",
        "  \n",
        "  # Return a list of words\n",
        "  return(review_text)\n",
        "\n",
        "def process_questions(question_list, questions, question_list_name):\n",
        "# function to transform questions and display progress\n",
        "  for question in questions:\n",
        "    question_list.append(review_to_wordlist(question))\n",
        "    if len(question_list) % 100000 == 0:\n",
        "      progress = len(question_list)/len(data) * 100\n",
        "      print(\"{} is {}% complete.\".format(question_list_name, round(progress, 1)))\n",
        "\n",
        "  print(\"{} is {}% complete.\".format(question_list_name, 100))"
      ],
      "execution_count": 138,
      "outputs": []
    },
    {
      "cell_type": "code",
      "metadata": {
        "id": "KXk_umjK3d4c"
      },
      "source": [
        "def norm_wmd(s1, s2):\n",
        "    s1 = str(s1).lower().split()\n",
        "    s2 = str(s2).lower().split()\n",
        "    stop_words = stopwords.words('english')\n",
        "    s1 = [w for w in s1 if w not in stop_words]\n",
        "    s2 = [w for w in s2 if w not in stop_words]\n",
        "    return norm_model.wmdistance(s1, s2)\n",
        "\n",
        "\n",
        "def sent2vec(s):\n",
        "    words = str(s).lower()\n",
        "    words = word_tokenize(words)\n",
        "    words = [w for w in words if not w in stop_words]\n",
        "    words = [w for w in words if w.isalpha()]\n",
        "    M = []\n",
        "    for w in words:\n",
        "        try:\n",
        "            M.append(model[w])\n",
        "        except:\n",
        "            continue\n",
        "    M = np.array(M)\n",
        "    v = M.sum(axis=0)\n",
        "    return v / np.sqrt((v ** 2).sum())\n",
        "\n",
        "def wmd(s1, s2):\n",
        "    s1 = str(s1).lower().split()\n",
        "    s2 = str(s2).lower().split()\n",
        "    stop_words = stopwords.words('english')\n",
        "    s1 = [w for w in s1 if w not in stop_words]\n",
        "    s2 = [w for w in s2 if w not in stop_words]\n",
        "    return model.wmdistance(s1, s2)\n"
      ],
      "execution_count": null,
      "outputs": []
    },
    {
      "cell_type": "code",
      "metadata": {
        "id": "fF6J8kYP3jhq"
      },
      "source": [
        "\n",
        "\n",
        "data = pd.read_csv('/content/drive/MyDrive/questions.csv')\n",
        "data = data.drop(['id', 'qid1', 'qid2'], axis=1)"
      ],
      "execution_count": null,
      "outputs": []
    },
    {
      "cell_type": "code",
      "metadata": {
        "id": "oo2RgbYCqtJH"
      },
      "source": [
        "\n",
        "data['len_q1'] = data.question1.apply(lambda x: len(str(x)))\n",
        "data['len_q2'] = data.question2.apply(lambda x: len(str(x)))\n",
        "data['diff_len'] = data.len_q1 - data.len_q2\n",
        "data['len_char_q1'] = data.question1.apply(lambda x: len(''.join(set(str(x).replace(' ', '')))))\n",
        "data['len_char_q2'] = data.question2.apply(lambda x: len(''.join(set(str(x).replace(' ', '')))))\n",
        "data['len_word_q1'] = data.question1.apply(lambda x: len(str(x).split()))\n",
        "data['len_word_q2'] = data.question2.apply(lambda x: len(str(x).split()))\n",
        "data['common_words'] = data.apply(lambda x: len(set(str(x['question1']).lower().split()).intersection(set(str(x['question2']).lower().split()))), axis=1)\n",
        "data['fuzz_qratio'] = data.apply(lambda x: fuzz.QRatio(str(x['question1']), str(x['question2'])), axis=1)\n",
        "data['fuzz_WRatio'] = data.apply(lambda x: fuzz.WRatio(str(x['question1']), str(x['question2'])), axis=1)\n",
        "data['fuzz_partial_ratio'] = data.apply(lambda x: fuzz.partial_ratio(str(x['question1']), str(x['question2'])), axis=1)\n",
        "data['fuzz_partial_token_set_ratio'] = data.apply(lambda x: fuzz.partial_token_set_ratio(str(x['question1']), str(x['question2'])), axis=1)\n",
        "data['fuzz_partial_token_sort_ratio'] = data.apply(lambda x: fuzz.partial_token_sort_ratio(str(x['question1']), str(x['question2'])), axis=1)\n",
        "data['fuzz_token_set_ratio'] = data.apply(lambda x: fuzz.token_set_ratio(str(x['question1']), str(x['question2'])), axis=1)\n",
        "data['fuzz_token_sort_ratio'] = data.apply(lambda x: fuzz.token_sort_ratio(str(x['question1']), str(x['question2'])), axis=1)"
      ],
      "execution_count": null,
      "outputs": []
    },
    {
      "cell_type": "code",
      "metadata": {
        "colab": {
          "base_uri": "https://localhost:8080/",
          "height": 1000
        },
        "id": "ouEgFSHDw28I",
        "outputId": "c689db2c-b888-41a4-c24a-e0f452a40787"
      },
      "source": [
        "data"
      ],
      "execution_count": null,
      "outputs": [
        {
          "output_type": "execute_result",
          "data": {
            "text/html": [
              "<div>\n",
              "<style scoped>\n",
              "    .dataframe tbody tr th:only-of-type {\n",
              "        vertical-align: middle;\n",
              "    }\n",
              "\n",
              "    .dataframe tbody tr th {\n",
              "        vertical-align: top;\n",
              "    }\n",
              "\n",
              "    .dataframe thead th {\n",
              "        text-align: right;\n",
              "    }\n",
              "</style>\n",
              "<table border=\"1\" class=\"dataframe\">\n",
              "  <thead>\n",
              "    <tr style=\"text-align: right;\">\n",
              "      <th></th>\n",
              "      <th>question1</th>\n",
              "      <th>question2</th>\n",
              "      <th>is_duplicate</th>\n",
              "      <th>len_q1</th>\n",
              "      <th>len_q2</th>\n",
              "      <th>diff_len</th>\n",
              "      <th>len_char_q1</th>\n",
              "      <th>len_char_q2</th>\n",
              "      <th>len_word_q1</th>\n",
              "      <th>len_word_q2</th>\n",
              "      <th>common_words</th>\n",
              "      <th>fuzz_qratio</th>\n",
              "      <th>fuzz_WRatio</th>\n",
              "      <th>fuzz_partial_ratio</th>\n",
              "      <th>fuzz_partial_token_set_ratio</th>\n",
              "      <th>fuzz_partial_token_sort_ratio</th>\n",
              "      <th>fuzz_token_set_ratio</th>\n",
              "      <th>fuzz_token_sort_ratio</th>\n",
              "    </tr>\n",
              "  </thead>\n",
              "  <tbody>\n",
              "    <tr>\n",
              "      <th>0</th>\n",
              "      <td>What is the step by step guide to invest in sh...</td>\n",
              "      <td>What is the step by step guide to invest in sh...</td>\n",
              "      <td>0</td>\n",
              "      <td>66</td>\n",
              "      <td>57</td>\n",
              "      <td>9</td>\n",
              "      <td>20</td>\n",
              "      <td>20</td>\n",
              "      <td>14</td>\n",
              "      <td>12</td>\n",
              "      <td>10</td>\n",
              "      <td>93</td>\n",
              "      <td>95</td>\n",
              "      <td>98</td>\n",
              "      <td>100</td>\n",
              "      <td>88</td>\n",
              "      <td>100</td>\n",
              "      <td>93</td>\n",
              "    </tr>\n",
              "    <tr>\n",
              "      <th>1</th>\n",
              "      <td>What is the story of Kohinoor (Koh-i-Noor) Dia...</td>\n",
              "      <td>What would happen if the Indian government sto...</td>\n",
              "      <td>0</td>\n",
              "      <td>51</td>\n",
              "      <td>88</td>\n",
              "      <td>-37</td>\n",
              "      <td>21</td>\n",
              "      <td>29</td>\n",
              "      <td>8</td>\n",
              "      <td>13</td>\n",
              "      <td>4</td>\n",
              "      <td>66</td>\n",
              "      <td>86</td>\n",
              "      <td>73</td>\n",
              "      <td>100</td>\n",
              "      <td>73</td>\n",
              "      <td>86</td>\n",
              "      <td>63</td>\n",
              "    </tr>\n",
              "    <tr>\n",
              "      <th>2</th>\n",
              "      <td>How can I increase the speed of my internet co...</td>\n",
              "      <td>How can Internet speed be increased by hacking...</td>\n",
              "      <td>0</td>\n",
              "      <td>73</td>\n",
              "      <td>59</td>\n",
              "      <td>14</td>\n",
              "      <td>25</td>\n",
              "      <td>24</td>\n",
              "      <td>14</td>\n",
              "      <td>10</td>\n",
              "      <td>4</td>\n",
              "      <td>43</td>\n",
              "      <td>60</td>\n",
              "      <td>41</td>\n",
              "      <td>100</td>\n",
              "      <td>71</td>\n",
              "      <td>63</td>\n",
              "      <td>63</td>\n",
              "    </tr>\n",
              "    <tr>\n",
              "      <th>3</th>\n",
              "      <td>Why am I mentally very lonely? How can I solve...</td>\n",
              "      <td>Find the remainder when [math]23^{24}[/math] i...</td>\n",
              "      <td>0</td>\n",
              "      <td>50</td>\n",
              "      <td>65</td>\n",
              "      <td>-15</td>\n",
              "      <td>19</td>\n",
              "      <td>26</td>\n",
              "      <td>11</td>\n",
              "      <td>9</td>\n",
              "      <td>0</td>\n",
              "      <td>9</td>\n",
              "      <td>27</td>\n",
              "      <td>20</td>\n",
              "      <td>32</td>\n",
              "      <td>30</td>\n",
              "      <td>28</td>\n",
              "      <td>24</td>\n",
              "    </tr>\n",
              "    <tr>\n",
              "      <th>4</th>\n",
              "      <td>Which one dissolve in water quikly sugar, salt...</td>\n",
              "      <td>Which fish would survive in salt water?</td>\n",
              "      <td>0</td>\n",
              "      <td>76</td>\n",
              "      <td>39</td>\n",
              "      <td>37</td>\n",
              "      <td>25</td>\n",
              "      <td>18</td>\n",
              "      <td>13</td>\n",
              "      <td>7</td>\n",
              "      <td>2</td>\n",
              "      <td>35</td>\n",
              "      <td>86</td>\n",
              "      <td>54</td>\n",
              "      <td>100</td>\n",
              "      <td>67</td>\n",
              "      <td>67</td>\n",
              "      <td>47</td>\n",
              "    </tr>\n",
              "    <tr>\n",
              "      <th>...</th>\n",
              "      <td>...</td>\n",
              "      <td>...</td>\n",
              "      <td>...</td>\n",
              "      <td>...</td>\n",
              "      <td>...</td>\n",
              "      <td>...</td>\n",
              "      <td>...</td>\n",
              "      <td>...</td>\n",
              "      <td>...</td>\n",
              "      <td>...</td>\n",
              "      <td>...</td>\n",
              "      <td>...</td>\n",
              "      <td>...</td>\n",
              "      <td>...</td>\n",
              "      <td>...</td>\n",
              "      <td>...</td>\n",
              "      <td>...</td>\n",
              "      <td>...</td>\n",
              "    </tr>\n",
              "    <tr>\n",
              "      <th>404346</th>\n",
              "      <td>How many keywords are there in the Racket prog...</td>\n",
              "      <td>How many keywords are there in PERL Programmin...</td>\n",
              "      <td>0</td>\n",
              "      <td>85</td>\n",
              "      <td>79</td>\n",
              "      <td>6</td>\n",
              "      <td>24</td>\n",
              "      <td>24</td>\n",
              "      <td>14</td>\n",
              "      <td>13</td>\n",
              "      <td>11</td>\n",
              "      <td>91</td>\n",
              "      <td>92</td>\n",
              "      <td>84</td>\n",
              "      <td>100</td>\n",
              "      <td>83</td>\n",
              "      <td>97</td>\n",
              "      <td>88</td>\n",
              "    </tr>\n",
              "    <tr>\n",
              "      <th>404347</th>\n",
              "      <td>Do you believe there is life after death?</td>\n",
              "      <td>Is it true that there is life after death?</td>\n",
              "      <td>1</td>\n",
              "      <td>41</td>\n",
              "      <td>42</td>\n",
              "      <td>-1</td>\n",
              "      <td>17</td>\n",
              "      <td>13</td>\n",
              "      <td>8</td>\n",
              "      <td>9</td>\n",
              "      <td>5</td>\n",
              "      <td>72</td>\n",
              "      <td>75</td>\n",
              "      <td>76</td>\n",
              "      <td>100</td>\n",
              "      <td>70</td>\n",
              "      <td>79</td>\n",
              "      <td>69</td>\n",
              "    </tr>\n",
              "    <tr>\n",
              "      <th>404348</th>\n",
              "      <td>What is one coin?</td>\n",
              "      <td>What's this coin?</td>\n",
              "      <td>0</td>\n",
              "      <td>17</td>\n",
              "      <td>17</td>\n",
              "      <td>0</td>\n",
              "      <td>11</td>\n",
              "      <td>11</td>\n",
              "      <td>4</td>\n",
              "      <td>3</td>\n",
              "      <td>1</td>\n",
              "      <td>75</td>\n",
              "      <td>75</td>\n",
              "      <td>76</td>\n",
              "      <td>100</td>\n",
              "      <td>75</td>\n",
              "      <td>75</td>\n",
              "      <td>75</td>\n",
              "    </tr>\n",
              "    <tr>\n",
              "      <th>404349</th>\n",
              "      <td>What is the approx annual cost of living while...</td>\n",
              "      <td>I am having little hairfall problem but I want...</td>\n",
              "      <td>0</td>\n",
              "      <td>94</td>\n",
              "      <td>127</td>\n",
              "      <td>-33</td>\n",
              "      <td>26</td>\n",
              "      <td>27</td>\n",
              "      <td>17</td>\n",
              "      <td>25</td>\n",
              "      <td>1</td>\n",
              "      <td>30</td>\n",
              "      <td>35</td>\n",
              "      <td>34</td>\n",
              "      <td>100</td>\n",
              "      <td>36</td>\n",
              "      <td>37</td>\n",
              "      <td>35</td>\n",
              "    </tr>\n",
              "    <tr>\n",
              "      <th>404350</th>\n",
              "      <td>What is like to have sex with cousin?</td>\n",
              "      <td>What is it like to have sex with your cousin?</td>\n",
              "      <td>0</td>\n",
              "      <td>37</td>\n",
              "      <td>45</td>\n",
              "      <td>-8</td>\n",
              "      <td>17</td>\n",
              "      <td>19</td>\n",
              "      <td>8</td>\n",
              "      <td>10</td>\n",
              "      <td>8</td>\n",
              "      <td>90</td>\n",
              "      <td>95</td>\n",
              "      <td>86</td>\n",
              "      <td>100</td>\n",
              "      <td>92</td>\n",
              "      <td>100</td>\n",
              "      <td>90</td>\n",
              "    </tr>\n",
              "  </tbody>\n",
              "</table>\n",
              "<p>404351 rows × 18 columns</p>\n",
              "</div>"
            ],
            "text/plain": [
              "                                                question1  ... fuzz_token_sort_ratio\n",
              "0       What is the step by step guide to invest in sh...  ...                    93\n",
              "1       What is the story of Kohinoor (Koh-i-Noor) Dia...  ...                    63\n",
              "2       How can I increase the speed of my internet co...  ...                    63\n",
              "3       Why am I mentally very lonely? How can I solve...  ...                    24\n",
              "4       Which one dissolve in water quikly sugar, salt...  ...                    47\n",
              "...                                                   ...  ...                   ...\n",
              "404346  How many keywords are there in the Racket prog...  ...                    88\n",
              "404347          Do you believe there is life after death?  ...                    69\n",
              "404348                                  What is one coin?  ...                    75\n",
              "404349  What is the approx annual cost of living while...  ...                    35\n",
              "404350              What is like to have sex with cousin?  ...                    90\n",
              "\n",
              "[404351 rows x 18 columns]"
            ]
          },
          "metadata": {
            "tags": []
          },
          "execution_count": 12
        }
      ]
    },
    {
      "cell_type": "code",
      "metadata": {
        "id": "drgUdZtfoWk1"
      },
      "source": [
        "import gensim\n",
        "google_news_path = \"/content/drive/MyDrive/GoogleNews-vectors-negative300.bin.gz\"\n",
        "\n",
        "# Load google news vecs in gensim\n",
        "model = gensim.models.KeyedVectors.load_word2vec_format(google_news_path, binary=True)\n",
        "# model = gensim.models.KeyedVectors.load_word2vec_format('data/GoogleNews-vectors-negative300.bin.gz', binary=True)\n",
        "data['wmd'] = data.apply(lambda x: wmd(x['question1'], x['question2']), axis=1)\n",
        "\n",
        "\n",
        "norm_model = gensim.models.KeyedVectors.load_word2vec_format(google_news_path, binary=True)\n",
        "norm_model.init_sims(replace=True)\n",
        "data['norm_wmd'] = data.apply(lambda x: norm_wmd(x['question1'], x['question2']), axis=1)\n",
        "\n",
        "question1_vectors = np.zeros((data.shape[0], 300))\n",
        "error_count = 0\n",
        "\n"
      ],
      "execution_count": null,
      "outputs": []
    },
    {
      "cell_type": "code",
      "metadata": {
        "colab": {
          "base_uri": "https://localhost:8080/"
        },
        "id": "dkZtxljE2ptX",
        "outputId": "5a5c2320-77d8-4f12-dbd1-34ede7642dd0"
      },
      "source": [
        "for i, q in tqdm(enumerate(data.question1.values)):\n",
        "    question1_vectors[i, :] = sent2vec(q)"
      ],
      "execution_count": null,
      "outputs": [
        {
          "output_type": "stream",
          "text": [
            "0it [00:00, ?it/s]/usr/local/lib/python3.7/dist-packages/ipykernel_launcher.py:23: RuntimeWarning: invalid value encountered in double_scalars\n",
            "246635it [00:58, 4192.14it/s]"
          ],
          "name": "stderr"
        }
      ]
    },
    {
      "cell_type": "code",
      "metadata": {
        "id": "owOodcbehByy"
      },
      "source": [
        "\n",
        "\n",
        "question2_vectors  = np.zeros((data.shape[0], 300))\n",
        "for i, q in tqdm(enumerate(data.question2.values)):\n",
        "    question2_vectors[i, :] = sent2vec(q)\n",
        "\n",
        "data['cosine_distance'] = [cosine(x, y) for (x, y) in zip(np.nan_to_num(question1_vectors),\n",
        "                                                          np.nan_to_num(question2_vectors))]\n",
        "\n",
        "data['cityblock_distance'] = [cityblock(x, y) for (x, y) in zip(np.nan_to_num(question1_vectors),\n",
        "                                                          np.nan_to_num(question2_vectors))]\n",
        "\n",
        "data['jaccard_distance'] = [jaccard(x, y) for (x, y) in zip(np.nan_to_num(question1_vectors),\n",
        "                                                          np.nan_to_num(question2_vectors))]\n",
        "\n",
        "data['canberra_distance'] = [canberra(x, y) for (x, y) in zip(np.nan_to_num(question1_vectors),\n",
        "                                                          np.nan_to_num(question2_vectors))]\n",
        "\n",
        "data['euclidean_distance'] = [euclidean(x, y) for (x, y) in zip(np.nan_to_num(question1_vectors),\n",
        "                                                          np.nan_to_num(question2_vectors))]\n",
        "\n",
        "data['minkowski_distance'] = [minkowski(x, y, 3) for (x, y) in zip(np.nan_to_num(question1_vectors),\n",
        "                                                          np.nan_to_num(question2_vectors))]\n",
        "\n",
        "data['braycurtis_distance'] = [braycurtis(x, y) for (x, y) in zip(np.nan_to_num(question1_vectors),\n",
        "                                                          np.nan_to_num(question2_vectors))]\n",
        "\n",
        "data['skew_q1vec'] = [skew(x) for x in np.nan_to_num(question1_vectors)]\n",
        "data['skew_q2vec'] = [skew(x) for x in np.nan_to_num(question2_vectors)]\n",
        "data['kur_q1vec'] = [kurtosis(x) for x in np.nan_to_num(question1_vectors)]\n",
        "data['kur_q2vec'] = [kurtosis(x) for x in np.nan_to_num(question2_vectors)]\n",
        "\n",
        "pickle.dump(question1_vectors, open('data/q1_w2v.pkl', 'wb'), -1)\n",
        "pickle.dump(question2_vectors, open('data/q2_w2v.pkl', 'wb'), -1)\n",
        "\n",
        "data.to_csv('/content/drive/MyDrive/quora_features.csv', index=False)"
      ],
      "execution_count": null,
      "outputs": []
    },
    {
      "cell_type": "code",
      "metadata": {
        "id": "Ztn_lxY7sFKt"
      },
      "source": [
        "def common_bigrams_count(q1, q2):\n",
        "    tokens_1 = word_tokenize(q1)\n",
        "    tokens_2 = word_tokenize(q2)\n",
        "    if len(tokens_1) <2  or len(tokens_2) <2 :\n",
        "      return 0\n",
        "    bigrams_1 = nltk.bigrams(tokens_1)\n",
        "    bigrams_2 = nltk.bigrams(tokens_2)\n",
        "\n",
        "    \n",
        "\n",
        "    frequency_1 = nltk.FreqDist(bigrams_1)\n",
        "    frequency_2 = nltk.FreqDist(bigrams_2)\n",
        "\n",
        "    count = 0\n",
        "    common_pair=[]\n",
        "    for pair in frequency_1.keys():\n",
        "      if pair in frequency_2.keys():\n",
        "        count=count+1\n",
        "        common_pair.append(pair)\n",
        "    \n",
        "    # print(common_pair)\n",
        "  \n",
        "  \n",
        "    return count"
      ],
      "execution_count": null,
      "outputs": []
    },
    {
      "cell_type": "code",
      "metadata": {
        "id": "GN_a1WCqsItF"
      },
      "source": [
        "def common_trigrams_count(q1, q2):\n",
        "    tokens_1 = custom_tokenize(q1)\n",
        "    tokens_2 = custom_tokenize(q2)\n",
        "\n",
        "    if len(tokens_1) < 3 or len(tokens_2) < 3:\n",
        "      return 0\n",
        "\n",
        "    trigrams_1 = nltk.trigrams(tokens_1)\n",
        "    trigrams_2 = nltk.trigrams(tokens_2)\n",
        "\n",
        "    # print(trigrams_1)\n",
        "    # print(trigrams_2)\n",
        "\n",
        "    frequency_1 = nltk.FreqDist(trigrams_1)\n",
        "    frequency_2 = nltk.FreqDist(trigrams_2)\n",
        "\n",
        "    # print(frequency_1)\n",
        "    # print(frequency_2)\n",
        "\n",
        "    count = 0\n",
        "    common_pair=[]\n",
        "    for pair in frequency_1.keys():\n",
        "      if pair in frequency_2.keys():\n",
        "        count=count+1\n",
        "        common_pair.append(pair)\n",
        "    \n",
        "    # print(common_pair)\n",
        "  \n",
        "  \n",
        "    return count"
      ],
      "execution_count": null,
      "outputs": []
    },
    {
      "cell_type": "code",
      "metadata": {
        "id": "F0Hz1bM5v3v-"
      },
      "source": [
        "data['common_bigrams'] = data.apply(lambda x: common_bigrams_count(str(x['question1']), str(x['question2'])), axis=1)"
      ],
      "execution_count": null,
      "outputs": []
    },
    {
      "cell_type": "code",
      "metadata": {
        "id": "xmvMUxZZv5xE"
      },
      "source": [
        "data['common_trigrams'] = data.apply(lambda x: common_bigrams_count(str(x['question1']), str(x['question2'])), axis=1)"
      ],
      "execution_count": null,
      "outputs": []
    },
    {
      "cell_type": "code",
      "metadata": {
        "id": "2YZ9Zk5hv7pz"
      },
      "source": [
        "data.to_csv('/content/drive/MyDrive/quora_features.csv', index=False)"
      ],
      "execution_count": null,
      "outputs": []
    },
    {
      "cell_type": "code",
      "metadata": {
        "id": "CZ5nhlDZx1O_"
      },
      "source": [
        "data = pd.read_csv('/content/drive/MyDrive/quora_features.csv')"
      ],
      "execution_count": 6,
      "outputs": []
    },
    {
      "cell_type": "code",
      "metadata": {
        "colab": {
          "base_uri": "https://localhost:8080/",
          "height": 1000
        },
        "id": "ydv4HLiQyDs9",
        "outputId": "671a74a6-0a86-4b9e-8a37-c9b45a73a95f"
      },
      "source": [
        "data"
      ],
      "execution_count": 7,
      "outputs": [
        {
          "output_type": "execute_result",
          "data": {
            "text/html": [
              "<div>\n",
              "<style scoped>\n",
              "    .dataframe tbody tr th:only-of-type {\n",
              "        vertical-align: middle;\n",
              "    }\n",
              "\n",
              "    .dataframe tbody tr th {\n",
              "        vertical-align: top;\n",
              "    }\n",
              "\n",
              "    .dataframe thead th {\n",
              "        text-align: right;\n",
              "    }\n",
              "</style>\n",
              "<table border=\"1\" class=\"dataframe\">\n",
              "  <thead>\n",
              "    <tr style=\"text-align: right;\">\n",
              "      <th></th>\n",
              "      <th>question1</th>\n",
              "      <th>question2</th>\n",
              "      <th>is_duplicate</th>\n",
              "      <th>wmd</th>\n",
              "      <th>norm_wmd</th>\n",
              "      <th>cosine_distance</th>\n",
              "      <th>cityblock_distance</th>\n",
              "      <th>jaccard_distance</th>\n",
              "      <th>canberra_distance</th>\n",
              "      <th>euclidean_distance</th>\n",
              "      <th>minkowski_distance</th>\n",
              "      <th>braycurtis_distance</th>\n",
              "      <th>skew_q1vec</th>\n",
              "      <th>skew_q2vec</th>\n",
              "      <th>kur_q1vec</th>\n",
              "      <th>kur_q2vec</th>\n",
              "      <th>len_q1</th>\n",
              "      <th>len_q2</th>\n",
              "      <th>diff_len</th>\n",
              "      <th>len_char_q1</th>\n",
              "      <th>len_char_q2</th>\n",
              "      <th>len_word_q1</th>\n",
              "      <th>len_word_q2</th>\n",
              "      <th>common_words</th>\n",
              "      <th>fuzz_qratio</th>\n",
              "      <th>fuzz_WRatio</th>\n",
              "      <th>fuzz_partial_ratio</th>\n",
              "      <th>fuzz_partial_token_set_ratio</th>\n",
              "      <th>fuzz_partial_token_sort_ratio</th>\n",
              "      <th>fuzz_token_set_ratio</th>\n",
              "      <th>fuzz_token_sort_ratio</th>\n",
              "      <th>common_bigrams</th>\n",
              "      <th>common_trigrams</th>\n",
              "    </tr>\n",
              "  </thead>\n",
              "  <tbody>\n",
              "    <tr>\n",
              "      <th>0</th>\n",
              "      <td>What is the step by step guide to invest in sh...</td>\n",
              "      <td>What is the step by step guide to invest in sh...</td>\n",
              "      <td>0</td>\n",
              "      <td>0.564615</td>\n",
              "      <td>0.217555</td>\n",
              "      <td>0.068972</td>\n",
              "      <td>5.081614</td>\n",
              "      <td>1.0</td>\n",
              "      <td>94.023324</td>\n",
              "      <td>0.371408</td>\n",
              "      <td>0.168999</td>\n",
              "      <td>0.186557</td>\n",
              "      <td>0.031817</td>\n",
              "      <td>-0.091902</td>\n",
              "      <td>0.050416</td>\n",
              "      <td>0.337301</td>\n",
              "      <td>66</td>\n",
              "      <td>57</td>\n",
              "      <td>9</td>\n",
              "      <td>20</td>\n",
              "      <td>20</td>\n",
              "      <td>14</td>\n",
              "      <td>12</td>\n",
              "      <td>10</td>\n",
              "      <td>93</td>\n",
              "      <td>95</td>\n",
              "      <td>98</td>\n",
              "      <td>100</td>\n",
              "      <td>88</td>\n",
              "      <td>100</td>\n",
              "      <td>93</td>\n",
              "      <td>11</td>\n",
              "      <td>11</td>\n",
              "    </tr>\n",
              "    <tr>\n",
              "      <th>1</th>\n",
              "      <td>What is the story of Kohinoor (Koh-i-Noor) Dia...</td>\n",
              "      <td>What would happen if the Indian government sto...</td>\n",
              "      <td>0</td>\n",
              "      <td>3.772346</td>\n",
              "      <td>1.368796</td>\n",
              "      <td>0.512164</td>\n",
              "      <td>14.195119</td>\n",
              "      <td>1.0</td>\n",
              "      <td>177.588090</td>\n",
              "      <td>1.012091</td>\n",
              "      <td>0.455910</td>\n",
              "      <td>0.592655</td>\n",
              "      <td>0.008735</td>\n",
              "      <td>0.094704</td>\n",
              "      <td>0.284010</td>\n",
              "      <td>-0.034444</td>\n",
              "      <td>51</td>\n",
              "      <td>88</td>\n",
              "      <td>-37</td>\n",
              "      <td>21</td>\n",
              "      <td>29</td>\n",
              "      <td>8</td>\n",
              "      <td>13</td>\n",
              "      <td>4</td>\n",
              "      <td>66</td>\n",
              "      <td>86</td>\n",
              "      <td>73</td>\n",
              "      <td>100</td>\n",
              "      <td>73</td>\n",
              "      <td>86</td>\n",
              "      <td>63</td>\n",
              "      <td>3</td>\n",
              "      <td>3</td>\n",
              "    </tr>\n",
              "    <tr>\n",
              "      <th>2</th>\n",
              "      <td>How can I increase the speed of my internet co...</td>\n",
              "      <td>How can Internet speed be increased by hacking...</td>\n",
              "      <td>0</td>\n",
              "      <td>1.780585</td>\n",
              "      <td>0.639209</td>\n",
              "      <td>0.222009</td>\n",
              "      <td>9.055989</td>\n",
              "      <td>1.0</td>\n",
              "      <td>135.988707</td>\n",
              "      <td>0.666346</td>\n",
              "      <td>0.307828</td>\n",
              "      <td>0.342306</td>\n",
              "      <td>0.239752</td>\n",
              "      <td>0.144554</td>\n",
              "      <td>0.026759</td>\n",
              "      <td>-0.474131</td>\n",
              "      <td>73</td>\n",
              "      <td>59</td>\n",
              "      <td>14</td>\n",
              "      <td>25</td>\n",
              "      <td>24</td>\n",
              "      <td>14</td>\n",
              "      <td>10</td>\n",
              "      <td>4</td>\n",
              "      <td>43</td>\n",
              "      <td>60</td>\n",
              "      <td>41</td>\n",
              "      <td>100</td>\n",
              "      <td>71</td>\n",
              "      <td>63</td>\n",
              "      <td>63</td>\n",
              "      <td>1</td>\n",
              "      <td>1</td>\n",
              "    </tr>\n",
              "    <tr>\n",
              "      <th>3</th>\n",
              "      <td>Why am I mentally very lonely? How can I solve...</td>\n",
              "      <td>Find the remainder when [math]23^{24}[/math] i...</td>\n",
              "      <td>0</td>\n",
              "      <td>3.741994</td>\n",
              "      <td>1.263719</td>\n",
              "      <td>0.650411</td>\n",
              "      <td>15.987437</td>\n",
              "      <td>1.0</td>\n",
              "      <td>192.237828</td>\n",
              "      <td>1.140536</td>\n",
              "      <td>0.506028</td>\n",
              "      <td>0.692421</td>\n",
              "      <td>-0.002527</td>\n",
              "      <td>0.069649</td>\n",
              "      <td>-0.244560</td>\n",
              "      <td>-0.265568</td>\n",
              "      <td>50</td>\n",
              "      <td>65</td>\n",
              "      <td>-15</td>\n",
              "      <td>19</td>\n",
              "      <td>26</td>\n",
              "      <td>11</td>\n",
              "      <td>9</td>\n",
              "      <td>0</td>\n",
              "      <td>9</td>\n",
              "      <td>27</td>\n",
              "      <td>20</td>\n",
              "      <td>32</td>\n",
              "      <td>30</td>\n",
              "      <td>28</td>\n",
              "      <td>24</td>\n",
              "      <td>0</td>\n",
              "      <td>0</td>\n",
              "    </tr>\n",
              "    <tr>\n",
              "      <th>4</th>\n",
              "      <td>Which one dissolve in water quikly sugar, salt...</td>\n",
              "      <td>Which fish would survive in salt water?</td>\n",
              "      <td>0</td>\n",
              "      <td>3.659165</td>\n",
              "      <td>1.240908</td>\n",
              "      <td>0.369993</td>\n",
              "      <td>12.103178</td>\n",
              "      <td>1.0</td>\n",
              "      <td>161.408435</td>\n",
              "      <td>0.860225</td>\n",
              "      <td>0.382770</td>\n",
              "      <td>0.480633</td>\n",
              "      <td>-0.133849</td>\n",
              "      <td>0.114777</td>\n",
              "      <td>0.217900</td>\n",
              "      <td>-0.338876</td>\n",
              "      <td>76</td>\n",
              "      <td>39</td>\n",
              "      <td>37</td>\n",
              "      <td>25</td>\n",
              "      <td>18</td>\n",
              "      <td>13</td>\n",
              "      <td>7</td>\n",
              "      <td>2</td>\n",
              "      <td>35</td>\n",
              "      <td>86</td>\n",
              "      <td>54</td>\n",
              "      <td>100</td>\n",
              "      <td>67</td>\n",
              "      <td>67</td>\n",
              "      <td>47</td>\n",
              "      <td>0</td>\n",
              "      <td>0</td>\n",
              "    </tr>\n",
              "    <tr>\n",
              "      <th>...</th>\n",
              "      <td>...</td>\n",
              "      <td>...</td>\n",
              "      <td>...</td>\n",
              "      <td>...</td>\n",
              "      <td>...</td>\n",
              "      <td>...</td>\n",
              "      <td>...</td>\n",
              "      <td>...</td>\n",
              "      <td>...</td>\n",
              "      <td>...</td>\n",
              "      <td>...</td>\n",
              "      <td>...</td>\n",
              "      <td>...</td>\n",
              "      <td>...</td>\n",
              "      <td>...</td>\n",
              "      <td>...</td>\n",
              "      <td>...</td>\n",
              "      <td>...</td>\n",
              "      <td>...</td>\n",
              "      <td>...</td>\n",
              "      <td>...</td>\n",
              "      <td>...</td>\n",
              "      <td>...</td>\n",
              "      <td>...</td>\n",
              "      <td>...</td>\n",
              "      <td>...</td>\n",
              "      <td>...</td>\n",
              "      <td>...</td>\n",
              "      <td>...</td>\n",
              "      <td>...</td>\n",
              "      <td>...</td>\n",
              "      <td>...</td>\n",
              "      <td>...</td>\n",
              "    </tr>\n",
              "    <tr>\n",
              "      <th>404346</th>\n",
              "      <td>How many keywords are there in the Racket prog...</td>\n",
              "      <td>How many keywords are there in PERL Programmin...</td>\n",
              "      <td>0</td>\n",
              "      <td>0.904016</td>\n",
              "      <td>0.227233</td>\n",
              "      <td>0.131646</td>\n",
              "      <td>7.122625</td>\n",
              "      <td>1.0</td>\n",
              "      <td>118.479153</td>\n",
              "      <td>0.513120</td>\n",
              "      <td>0.231429</td>\n",
              "      <td>0.262434</td>\n",
              "      <td>0.014864</td>\n",
              "      <td>0.134802</td>\n",
              "      <td>-0.084945</td>\n",
              "      <td>-0.477739</td>\n",
              "      <td>85</td>\n",
              "      <td>79</td>\n",
              "      <td>6</td>\n",
              "      <td>24</td>\n",
              "      <td>24</td>\n",
              "      <td>14</td>\n",
              "      <td>13</td>\n",
              "      <td>11</td>\n",
              "      <td>91</td>\n",
              "      <td>92</td>\n",
              "      <td>84</td>\n",
              "      <td>100</td>\n",
              "      <td>83</td>\n",
              "      <td>97</td>\n",
              "      <td>88</td>\n",
              "      <td>9</td>\n",
              "      <td>9</td>\n",
              "    </tr>\n",
              "    <tr>\n",
              "      <th>404347</th>\n",
              "      <td>Do you believe there is life after death?</td>\n",
              "      <td>Is it true that there is life after death?</td>\n",
              "      <td>1</td>\n",
              "      <td>1.306167</td>\n",
              "      <td>0.590033</td>\n",
              "      <td>0.129039</td>\n",
              "      <td>7.146889</td>\n",
              "      <td>1.0</td>\n",
              "      <td>119.485637</td>\n",
              "      <td>0.508014</td>\n",
              "      <td>0.226945</td>\n",
              "      <td>0.263738</td>\n",
              "      <td>-0.002918</td>\n",
              "      <td>0.038642</td>\n",
              "      <td>-0.147208</td>\n",
              "      <td>-0.260159</td>\n",
              "      <td>41</td>\n",
              "      <td>42</td>\n",
              "      <td>-1</td>\n",
              "      <td>17</td>\n",
              "      <td>13</td>\n",
              "      <td>8</td>\n",
              "      <td>9</td>\n",
              "      <td>5</td>\n",
              "      <td>72</td>\n",
              "      <td>75</td>\n",
              "      <td>76</td>\n",
              "      <td>100</td>\n",
              "      <td>70</td>\n",
              "      <td>79</td>\n",
              "      <td>69</td>\n",
              "      <td>5</td>\n",
              "      <td>5</td>\n",
              "    </tr>\n",
              "    <tr>\n",
              "      <th>404348</th>\n",
              "      <td>What is one coin?</td>\n",
              "      <td>What's this coin?</td>\n",
              "      <td>0</td>\n",
              "      <td>3.656829</td>\n",
              "      <td>1.382975</td>\n",
              "      <td>0.069016</td>\n",
              "      <td>5.065351</td>\n",
              "      <td>1.0</td>\n",
              "      <td>91.936365</td>\n",
              "      <td>0.371527</td>\n",
              "      <td>0.170819</td>\n",
              "      <td>0.182876</td>\n",
              "      <td>-0.193922</td>\n",
              "      <td>-0.147340</td>\n",
              "      <td>-0.279527</td>\n",
              "      <td>-0.397618</td>\n",
              "      <td>17</td>\n",
              "      <td>17</td>\n",
              "      <td>0</td>\n",
              "      <td>11</td>\n",
              "      <td>11</td>\n",
              "      <td>4</td>\n",
              "      <td>3</td>\n",
              "      <td>1</td>\n",
              "      <td>75</td>\n",
              "      <td>75</td>\n",
              "      <td>76</td>\n",
              "      <td>100</td>\n",
              "      <td>75</td>\n",
              "      <td>75</td>\n",
              "      <td>75</td>\n",
              "      <td>1</td>\n",
              "      <td>1</td>\n",
              "    </tr>\n",
              "    <tr>\n",
              "      <th>404349</th>\n",
              "      <td>What is the approx annual cost of living while...</td>\n",
              "      <td>I am having little hairfall problem but I want...</td>\n",
              "      <td>0</td>\n",
              "      <td>3.575980</td>\n",
              "      <td>1.313263</td>\n",
              "      <td>0.708233</td>\n",
              "      <td>16.438430</td>\n",
              "      <td>1.0</td>\n",
              "      <td>194.867266</td>\n",
              "      <td>1.190154</td>\n",
              "      <td>0.540202</td>\n",
              "      <td>0.737343</td>\n",
              "      <td>-0.018571</td>\n",
              "      <td>-0.155503</td>\n",
              "      <td>-0.382487</td>\n",
              "      <td>-0.162977</td>\n",
              "      <td>94</td>\n",
              "      <td>127</td>\n",
              "      <td>-33</td>\n",
              "      <td>26</td>\n",
              "      <td>27</td>\n",
              "      <td>17</td>\n",
              "      <td>25</td>\n",
              "      <td>1</td>\n",
              "      <td>30</td>\n",
              "      <td>35</td>\n",
              "      <td>34</td>\n",
              "      <td>100</td>\n",
              "      <td>36</td>\n",
              "      <td>37</td>\n",
              "      <td>35</td>\n",
              "      <td>0</td>\n",
              "      <td>0</td>\n",
              "    </tr>\n",
              "    <tr>\n",
              "      <th>404350</th>\n",
              "      <td>What is like to have sex with cousin?</td>\n",
              "      <td>What is it like to have sex with your cousin?</td>\n",
              "      <td>0</td>\n",
              "      <td>0.000000</td>\n",
              "      <td>0.000000</td>\n",
              "      <td>0.000000</td>\n",
              "      <td>0.000000</td>\n",
              "      <td>0.0</td>\n",
              "      <td>0.000000</td>\n",
              "      <td>0.000000</td>\n",
              "      <td>0.000000</td>\n",
              "      <td>0.000000</td>\n",
              "      <td>0.188143</td>\n",
              "      <td>0.188143</td>\n",
              "      <td>0.487497</td>\n",
              "      <td>0.487497</td>\n",
              "      <td>37</td>\n",
              "      <td>45</td>\n",
              "      <td>-8</td>\n",
              "      <td>17</td>\n",
              "      <td>19</td>\n",
              "      <td>8</td>\n",
              "      <td>10</td>\n",
              "      <td>8</td>\n",
              "      <td>90</td>\n",
              "      <td>95</td>\n",
              "      <td>86</td>\n",
              "      <td>100</td>\n",
              "      <td>92</td>\n",
              "      <td>100</td>\n",
              "      <td>90</td>\n",
              "      <td>6</td>\n",
              "      <td>6</td>\n",
              "    </tr>\n",
              "  </tbody>\n",
              "</table>\n",
              "<p>404351 rows × 33 columns</p>\n",
              "</div>"
            ],
            "text/plain": [
              "                                                question1  ... common_trigrams\n",
              "0       What is the step by step guide to invest in sh...  ...              11\n",
              "1       What is the story of Kohinoor (Koh-i-Noor) Dia...  ...               3\n",
              "2       How can I increase the speed of my internet co...  ...               1\n",
              "3       Why am I mentally very lonely? How can I solve...  ...               0\n",
              "4       Which one dissolve in water quikly sugar, salt...  ...               0\n",
              "...                                                   ...  ...             ...\n",
              "404346  How many keywords are there in the Racket prog...  ...               9\n",
              "404347          Do you believe there is life after death?  ...               5\n",
              "404348                                  What is one coin?  ...               1\n",
              "404349  What is the approx annual cost of living while...  ...               0\n",
              "404350              What is like to have sex with cousin?  ...               6\n",
              "\n",
              "[404351 rows x 33 columns]"
            ]
          },
          "metadata": {
            "tags": []
          },
          "execution_count": 7
        }
      ]
    },
    {
      "cell_type": "code",
      "metadata": {
        "id": "KJ58OWJryC4B"
      },
      "source": [
        "fs_1 = ['len_q1', 'len_q2', 'diff_len', 'len_char_q1', \n",
        "        'len_char_q2', 'len_word_q1', 'len_word_q2',     \n",
        "        'common_words']"
      ],
      "execution_count": 23,
      "outputs": []
    },
    {
      "cell_type": "code",
      "metadata": {
        "colab": {
          "base_uri": "https://localhost:8080/",
          "height": 424
        },
        "id": "I74W_58S1BrD",
        "outputId": "71b7dbfd-bc42-4712-c425-4fbc885f3df3"
      },
      "source": [
        "data[fs_1]"
      ],
      "execution_count": 24,
      "outputs": [
        {
          "output_type": "execute_result",
          "data": {
            "text/html": [
              "<div>\n",
              "<style scoped>\n",
              "    .dataframe tbody tr th:only-of-type {\n",
              "        vertical-align: middle;\n",
              "    }\n",
              "\n",
              "    .dataframe tbody tr th {\n",
              "        vertical-align: top;\n",
              "    }\n",
              "\n",
              "    .dataframe thead th {\n",
              "        text-align: right;\n",
              "    }\n",
              "</style>\n",
              "<table border=\"1\" class=\"dataframe\">\n",
              "  <thead>\n",
              "    <tr style=\"text-align: right;\">\n",
              "      <th></th>\n",
              "      <th>len_q1</th>\n",
              "      <th>len_q2</th>\n",
              "      <th>diff_len</th>\n",
              "      <th>len_char_q1</th>\n",
              "      <th>len_char_q2</th>\n",
              "      <th>len_word_q1</th>\n",
              "      <th>len_word_q2</th>\n",
              "      <th>common_words</th>\n",
              "    </tr>\n",
              "  </thead>\n",
              "  <tbody>\n",
              "    <tr>\n",
              "      <th>0</th>\n",
              "      <td>66</td>\n",
              "      <td>57</td>\n",
              "      <td>9</td>\n",
              "      <td>20</td>\n",
              "      <td>20</td>\n",
              "      <td>14</td>\n",
              "      <td>12</td>\n",
              "      <td>10</td>\n",
              "    </tr>\n",
              "    <tr>\n",
              "      <th>1</th>\n",
              "      <td>51</td>\n",
              "      <td>88</td>\n",
              "      <td>-37</td>\n",
              "      <td>21</td>\n",
              "      <td>29</td>\n",
              "      <td>8</td>\n",
              "      <td>13</td>\n",
              "      <td>4</td>\n",
              "    </tr>\n",
              "    <tr>\n",
              "      <th>2</th>\n",
              "      <td>73</td>\n",
              "      <td>59</td>\n",
              "      <td>14</td>\n",
              "      <td>25</td>\n",
              "      <td>24</td>\n",
              "      <td>14</td>\n",
              "      <td>10</td>\n",
              "      <td>4</td>\n",
              "    </tr>\n",
              "    <tr>\n",
              "      <th>3</th>\n",
              "      <td>50</td>\n",
              "      <td>65</td>\n",
              "      <td>-15</td>\n",
              "      <td>19</td>\n",
              "      <td>26</td>\n",
              "      <td>11</td>\n",
              "      <td>9</td>\n",
              "      <td>0</td>\n",
              "    </tr>\n",
              "    <tr>\n",
              "      <th>4</th>\n",
              "      <td>76</td>\n",
              "      <td>39</td>\n",
              "      <td>37</td>\n",
              "      <td>25</td>\n",
              "      <td>18</td>\n",
              "      <td>13</td>\n",
              "      <td>7</td>\n",
              "      <td>2</td>\n",
              "    </tr>\n",
              "    <tr>\n",
              "      <th>...</th>\n",
              "      <td>...</td>\n",
              "      <td>...</td>\n",
              "      <td>...</td>\n",
              "      <td>...</td>\n",
              "      <td>...</td>\n",
              "      <td>...</td>\n",
              "      <td>...</td>\n",
              "      <td>...</td>\n",
              "    </tr>\n",
              "    <tr>\n",
              "      <th>404346</th>\n",
              "      <td>85</td>\n",
              "      <td>79</td>\n",
              "      <td>6</td>\n",
              "      <td>24</td>\n",
              "      <td>24</td>\n",
              "      <td>14</td>\n",
              "      <td>13</td>\n",
              "      <td>11</td>\n",
              "    </tr>\n",
              "    <tr>\n",
              "      <th>404347</th>\n",
              "      <td>41</td>\n",
              "      <td>42</td>\n",
              "      <td>-1</td>\n",
              "      <td>17</td>\n",
              "      <td>13</td>\n",
              "      <td>8</td>\n",
              "      <td>9</td>\n",
              "      <td>5</td>\n",
              "    </tr>\n",
              "    <tr>\n",
              "      <th>404348</th>\n",
              "      <td>17</td>\n",
              "      <td>17</td>\n",
              "      <td>0</td>\n",
              "      <td>11</td>\n",
              "      <td>11</td>\n",
              "      <td>4</td>\n",
              "      <td>3</td>\n",
              "      <td>1</td>\n",
              "    </tr>\n",
              "    <tr>\n",
              "      <th>404349</th>\n",
              "      <td>94</td>\n",
              "      <td>127</td>\n",
              "      <td>-33</td>\n",
              "      <td>26</td>\n",
              "      <td>27</td>\n",
              "      <td>17</td>\n",
              "      <td>25</td>\n",
              "      <td>1</td>\n",
              "    </tr>\n",
              "    <tr>\n",
              "      <th>404350</th>\n",
              "      <td>37</td>\n",
              "      <td>45</td>\n",
              "      <td>-8</td>\n",
              "      <td>17</td>\n",
              "      <td>19</td>\n",
              "      <td>8</td>\n",
              "      <td>10</td>\n",
              "      <td>8</td>\n",
              "    </tr>\n",
              "  </tbody>\n",
              "</table>\n",
              "<p>404351 rows × 8 columns</p>\n",
              "</div>"
            ],
            "text/plain": [
              "        len_q1  len_q2  diff_len  ...  len_word_q1  len_word_q2  common_words\n",
              "0           66      57         9  ...           14           12            10\n",
              "1           51      88       -37  ...            8           13             4\n",
              "2           73      59        14  ...           14           10             4\n",
              "3           50      65       -15  ...           11            9             0\n",
              "4           76      39        37  ...           13            7             2\n",
              "...        ...     ...       ...  ...          ...          ...           ...\n",
              "404346      85      79         6  ...           14           13            11\n",
              "404347      41      42        -1  ...            8            9             5\n",
              "404348      17      17         0  ...            4            3             1\n",
              "404349      94     127       -33  ...           17           25             1\n",
              "404350      37      45        -8  ...            8           10             8\n",
              "\n",
              "[404351 rows x 8 columns]"
            ]
          },
          "metadata": {
            "tags": []
          },
          "execution_count": 24
        }
      ]
    },
    {
      "cell_type": "code",
      "metadata": {
        "id": "CkVXLjAS1MRM"
      },
      "source": [
        "fs_2 = ['fuzz_qratio', 'fuzz_WRatio', 'fuzz_partial_ratio', \n",
        "       'fuzz_partial_token_set_ratio', 'fuzz_partial_token_sort_ratio',\n",
        "       'fuzz_token_set_ratio', 'fuzz_token_sort_ratio']"
      ],
      "execution_count": 25,
      "outputs": []
    },
    {
      "cell_type": "code",
      "metadata": {
        "colab": {
          "base_uri": "https://localhost:8080/",
          "height": 444
        },
        "id": "7IwEYzL01NcU",
        "outputId": "88fb1ada-4ff9-4012-c1c3-bccf327144b0"
      },
      "source": [
        "data[fs_2]"
      ],
      "execution_count": 26,
      "outputs": [
        {
          "output_type": "execute_result",
          "data": {
            "text/html": [
              "<div>\n",
              "<style scoped>\n",
              "    .dataframe tbody tr th:only-of-type {\n",
              "        vertical-align: middle;\n",
              "    }\n",
              "\n",
              "    .dataframe tbody tr th {\n",
              "        vertical-align: top;\n",
              "    }\n",
              "\n",
              "    .dataframe thead th {\n",
              "        text-align: right;\n",
              "    }\n",
              "</style>\n",
              "<table border=\"1\" class=\"dataframe\">\n",
              "  <thead>\n",
              "    <tr style=\"text-align: right;\">\n",
              "      <th></th>\n",
              "      <th>fuzz_qratio</th>\n",
              "      <th>fuzz_WRatio</th>\n",
              "      <th>fuzz_partial_ratio</th>\n",
              "      <th>fuzz_partial_token_set_ratio</th>\n",
              "      <th>fuzz_partial_token_sort_ratio</th>\n",
              "      <th>fuzz_token_set_ratio</th>\n",
              "      <th>fuzz_token_sort_ratio</th>\n",
              "    </tr>\n",
              "  </thead>\n",
              "  <tbody>\n",
              "    <tr>\n",
              "      <th>0</th>\n",
              "      <td>93</td>\n",
              "      <td>95</td>\n",
              "      <td>98</td>\n",
              "      <td>100</td>\n",
              "      <td>88</td>\n",
              "      <td>100</td>\n",
              "      <td>93</td>\n",
              "    </tr>\n",
              "    <tr>\n",
              "      <th>1</th>\n",
              "      <td>66</td>\n",
              "      <td>86</td>\n",
              "      <td>73</td>\n",
              "      <td>100</td>\n",
              "      <td>73</td>\n",
              "      <td>86</td>\n",
              "      <td>63</td>\n",
              "    </tr>\n",
              "    <tr>\n",
              "      <th>2</th>\n",
              "      <td>43</td>\n",
              "      <td>60</td>\n",
              "      <td>41</td>\n",
              "      <td>100</td>\n",
              "      <td>71</td>\n",
              "      <td>63</td>\n",
              "      <td>63</td>\n",
              "    </tr>\n",
              "    <tr>\n",
              "      <th>3</th>\n",
              "      <td>9</td>\n",
              "      <td>27</td>\n",
              "      <td>20</td>\n",
              "      <td>32</td>\n",
              "      <td>30</td>\n",
              "      <td>28</td>\n",
              "      <td>24</td>\n",
              "    </tr>\n",
              "    <tr>\n",
              "      <th>4</th>\n",
              "      <td>35</td>\n",
              "      <td>86</td>\n",
              "      <td>54</td>\n",
              "      <td>100</td>\n",
              "      <td>67</td>\n",
              "      <td>67</td>\n",
              "      <td>47</td>\n",
              "    </tr>\n",
              "    <tr>\n",
              "      <th>...</th>\n",
              "      <td>...</td>\n",
              "      <td>...</td>\n",
              "      <td>...</td>\n",
              "      <td>...</td>\n",
              "      <td>...</td>\n",
              "      <td>...</td>\n",
              "      <td>...</td>\n",
              "    </tr>\n",
              "    <tr>\n",
              "      <th>404346</th>\n",
              "      <td>91</td>\n",
              "      <td>92</td>\n",
              "      <td>84</td>\n",
              "      <td>100</td>\n",
              "      <td>83</td>\n",
              "      <td>97</td>\n",
              "      <td>88</td>\n",
              "    </tr>\n",
              "    <tr>\n",
              "      <th>404347</th>\n",
              "      <td>72</td>\n",
              "      <td>75</td>\n",
              "      <td>76</td>\n",
              "      <td>100</td>\n",
              "      <td>70</td>\n",
              "      <td>79</td>\n",
              "      <td>69</td>\n",
              "    </tr>\n",
              "    <tr>\n",
              "      <th>404348</th>\n",
              "      <td>75</td>\n",
              "      <td>75</td>\n",
              "      <td>76</td>\n",
              "      <td>100</td>\n",
              "      <td>75</td>\n",
              "      <td>75</td>\n",
              "      <td>75</td>\n",
              "    </tr>\n",
              "    <tr>\n",
              "      <th>404349</th>\n",
              "      <td>30</td>\n",
              "      <td>35</td>\n",
              "      <td>34</td>\n",
              "      <td>100</td>\n",
              "      <td>36</td>\n",
              "      <td>37</td>\n",
              "      <td>35</td>\n",
              "    </tr>\n",
              "    <tr>\n",
              "      <th>404350</th>\n",
              "      <td>90</td>\n",
              "      <td>95</td>\n",
              "      <td>86</td>\n",
              "      <td>100</td>\n",
              "      <td>92</td>\n",
              "      <td>100</td>\n",
              "      <td>90</td>\n",
              "    </tr>\n",
              "  </tbody>\n",
              "</table>\n",
              "<p>404351 rows × 7 columns</p>\n",
              "</div>"
            ],
            "text/plain": [
              "        fuzz_qratio  fuzz_WRatio  ...  fuzz_token_set_ratio  fuzz_token_sort_ratio\n",
              "0                93           95  ...                   100                     93\n",
              "1                66           86  ...                    86                     63\n",
              "2                43           60  ...                    63                     63\n",
              "3                 9           27  ...                    28                     24\n",
              "4                35           86  ...                    67                     47\n",
              "...             ...          ...  ...                   ...                    ...\n",
              "404346           91           92  ...                    97                     88\n",
              "404347           72           75  ...                    79                     69\n",
              "404348           75           75  ...                    75                     75\n",
              "404349           30           35  ...                    37                     35\n",
              "404350           90           95  ...                   100                     90\n",
              "\n",
              "[404351 rows x 7 columns]"
            ]
          },
          "metadata": {
            "tags": []
          },
          "execution_count": 26
        }
      ]
    },
    {
      "cell_type": "code",
      "metadata": {
        "colab": {
          "base_uri": "https://localhost:8080/",
          "height": 424
        },
        "id": "xqwch8VP1Yms",
        "outputId": "c70afc98-8052-48c5-863a-1b6175cdcdda"
      },
      "source": [
        "fs4 = ['cosine_distance', 'cityblock_distance', \n",
        "         'jaccard_distance', 'canberra_distance', \n",
        "         'euclidean_distance', 'minkowski_distance',\n",
        "         'braycurtis_distance']\n",
        "data[fs4]"
      ],
      "execution_count": 87,
      "outputs": [
        {
          "output_type": "execute_result",
          "data": {
            "text/html": [
              "<div>\n",
              "<style scoped>\n",
              "    .dataframe tbody tr th:only-of-type {\n",
              "        vertical-align: middle;\n",
              "    }\n",
              "\n",
              "    .dataframe tbody tr th {\n",
              "        vertical-align: top;\n",
              "    }\n",
              "\n",
              "    .dataframe thead th {\n",
              "        text-align: right;\n",
              "    }\n",
              "</style>\n",
              "<table border=\"1\" class=\"dataframe\">\n",
              "  <thead>\n",
              "    <tr style=\"text-align: right;\">\n",
              "      <th></th>\n",
              "      <th>cosine_distance</th>\n",
              "      <th>cityblock_distance</th>\n",
              "      <th>jaccard_distance</th>\n",
              "      <th>canberra_distance</th>\n",
              "      <th>euclidean_distance</th>\n",
              "      <th>minkowski_distance</th>\n",
              "      <th>braycurtis_distance</th>\n",
              "    </tr>\n",
              "  </thead>\n",
              "  <tbody>\n",
              "    <tr>\n",
              "      <th>0</th>\n",
              "      <td>0.068972</td>\n",
              "      <td>5.081614</td>\n",
              "      <td>1.0</td>\n",
              "      <td>94.023324</td>\n",
              "      <td>0.371408</td>\n",
              "      <td>0.168999</td>\n",
              "      <td>0.186557</td>\n",
              "    </tr>\n",
              "    <tr>\n",
              "      <th>1</th>\n",
              "      <td>0.512164</td>\n",
              "      <td>14.195119</td>\n",
              "      <td>1.0</td>\n",
              "      <td>177.588090</td>\n",
              "      <td>1.012091</td>\n",
              "      <td>0.455910</td>\n",
              "      <td>0.592655</td>\n",
              "    </tr>\n",
              "    <tr>\n",
              "      <th>2</th>\n",
              "      <td>0.222009</td>\n",
              "      <td>9.055989</td>\n",
              "      <td>1.0</td>\n",
              "      <td>135.988707</td>\n",
              "      <td>0.666346</td>\n",
              "      <td>0.307828</td>\n",
              "      <td>0.342306</td>\n",
              "    </tr>\n",
              "    <tr>\n",
              "      <th>3</th>\n",
              "      <td>0.650411</td>\n",
              "      <td>15.987437</td>\n",
              "      <td>1.0</td>\n",
              "      <td>192.237828</td>\n",
              "      <td>1.140536</td>\n",
              "      <td>0.506028</td>\n",
              "      <td>0.692421</td>\n",
              "    </tr>\n",
              "    <tr>\n",
              "      <th>4</th>\n",
              "      <td>0.369993</td>\n",
              "      <td>12.103178</td>\n",
              "      <td>1.0</td>\n",
              "      <td>161.408435</td>\n",
              "      <td>0.860225</td>\n",
              "      <td>0.382770</td>\n",
              "      <td>0.480633</td>\n",
              "    </tr>\n",
              "    <tr>\n",
              "      <th>...</th>\n",
              "      <td>...</td>\n",
              "      <td>...</td>\n",
              "      <td>...</td>\n",
              "      <td>...</td>\n",
              "      <td>...</td>\n",
              "      <td>...</td>\n",
              "      <td>...</td>\n",
              "    </tr>\n",
              "    <tr>\n",
              "      <th>404346</th>\n",
              "      <td>0.131646</td>\n",
              "      <td>7.122625</td>\n",
              "      <td>1.0</td>\n",
              "      <td>118.479153</td>\n",
              "      <td>0.513120</td>\n",
              "      <td>0.231429</td>\n",
              "      <td>0.262434</td>\n",
              "    </tr>\n",
              "    <tr>\n",
              "      <th>404347</th>\n",
              "      <td>0.129039</td>\n",
              "      <td>7.146889</td>\n",
              "      <td>1.0</td>\n",
              "      <td>119.485637</td>\n",
              "      <td>0.508014</td>\n",
              "      <td>0.226945</td>\n",
              "      <td>0.263738</td>\n",
              "    </tr>\n",
              "    <tr>\n",
              "      <th>404348</th>\n",
              "      <td>0.069016</td>\n",
              "      <td>5.065351</td>\n",
              "      <td>1.0</td>\n",
              "      <td>91.936365</td>\n",
              "      <td>0.371527</td>\n",
              "      <td>0.170819</td>\n",
              "      <td>0.182876</td>\n",
              "    </tr>\n",
              "    <tr>\n",
              "      <th>404349</th>\n",
              "      <td>0.708233</td>\n",
              "      <td>16.438430</td>\n",
              "      <td>1.0</td>\n",
              "      <td>194.867266</td>\n",
              "      <td>1.190154</td>\n",
              "      <td>0.540202</td>\n",
              "      <td>0.737343</td>\n",
              "    </tr>\n",
              "    <tr>\n",
              "      <th>404350</th>\n",
              "      <td>0.000000</td>\n",
              "      <td>0.000000</td>\n",
              "      <td>0.0</td>\n",
              "      <td>0.000000</td>\n",
              "      <td>0.000000</td>\n",
              "      <td>0.000000</td>\n",
              "      <td>0.000000</td>\n",
              "    </tr>\n",
              "  </tbody>\n",
              "</table>\n",
              "<p>404351 rows × 7 columns</p>\n",
              "</div>"
            ],
            "text/plain": [
              "        cosine_distance  ...  braycurtis_distance\n",
              "0              0.068972  ...             0.186557\n",
              "1              0.512164  ...             0.592655\n",
              "2              0.222009  ...             0.342306\n",
              "3              0.650411  ...             0.692421\n",
              "4              0.369993  ...             0.480633\n",
              "...                 ...  ...                  ...\n",
              "404346         0.131646  ...             0.262434\n",
              "404347         0.129039  ...             0.263738\n",
              "404348         0.069016  ...             0.182876\n",
              "404349         0.708233  ...             0.737343\n",
              "404350         0.000000  ...             0.000000\n",
              "\n",
              "[404351 rows x 7 columns]"
            ]
          },
          "metadata": {
            "tags": []
          },
          "execution_count": 87
        }
      ]
    },
    {
      "cell_type": "code",
      "metadata": {
        "colab": {
          "base_uri": "https://localhost:8080/"
        },
        "id": "Y9gFAMSzH-YO",
        "outputId": "0f24601c-a99d-40da-b7bb-04517f8e2e6c"
      },
      "source": [
        "questions1 = []     \n",
        "process_questions(questions1, data.question1, \"questions1\")"
      ],
      "execution_count": 139,
      "outputs": [
        {
          "output_type": "stream",
          "text": [
            "questions1 is 24.7% complete.\n",
            "questions1 is 49.5% complete.\n",
            "questions1 is 74.2% complete.\n",
            "questions1 is 98.9% complete.\n",
            "questions1 is 100% complete.\n"
          ],
          "name": "stdout"
        }
      ]
    },
    {
      "cell_type": "code",
      "metadata": {
        "colab": {
          "base_uri": "https://localhost:8080/"
        },
        "id": "PwX6UQ8hIITZ",
        "outputId": "c14cb372-2405-4518-f5cb-76262874af54"
      },
      "source": [
        "questions2 = []     \n",
        "process_questions(questions2, data.question2, \"questions2\")"
      ],
      "execution_count": 140,
      "outputs": [
        {
          "output_type": "stream",
          "text": [
            "questions2 is 24.7% complete.\n",
            "questions2 is 49.5% complete.\n",
            "questions2 is 74.2% complete.\n",
            "questions2 is 98.9% complete.\n",
            "questions2 is 100% complete.\n"
          ],
          "name": "stdout"
        }
      ]
    },
    {
      "cell_type": "code",
      "metadata": {
        "id": "prRufX5lIk3y"
      },
      "source": [
        "data[\"processed_q1\"]=np.array(questions1)\n",
        "data[\"processed_q2\"]=np.array(questions2)"
      ],
      "execution_count": 142,
      "outputs": []
    },
    {
      "cell_type": "code",
      "metadata": {
        "colab": {
          "base_uri": "https://localhost:8080/",
          "height": 1000
        },
        "id": "-15eLC1XJoEr",
        "outputId": "a66b7f19-f613-4afa-ecdc-d839eb45b57a"
      },
      "source": [
        "data"
      ],
      "execution_count": 143,
      "outputs": [
        {
          "output_type": "execute_result",
          "data": {
            "text/html": [
              "<div>\n",
              "<style scoped>\n",
              "    .dataframe tbody tr th:only-of-type {\n",
              "        vertical-align: middle;\n",
              "    }\n",
              "\n",
              "    .dataframe tbody tr th {\n",
              "        vertical-align: top;\n",
              "    }\n",
              "\n",
              "    .dataframe thead th {\n",
              "        text-align: right;\n",
              "    }\n",
              "</style>\n",
              "<table border=\"1\" class=\"dataframe\">\n",
              "  <thead>\n",
              "    <tr style=\"text-align: right;\">\n",
              "      <th></th>\n",
              "      <th>question1</th>\n",
              "      <th>question2</th>\n",
              "      <th>is_duplicate</th>\n",
              "      <th>wmd</th>\n",
              "      <th>norm_wmd</th>\n",
              "      <th>cosine_distance</th>\n",
              "      <th>cityblock_distance</th>\n",
              "      <th>jaccard_distance</th>\n",
              "      <th>canberra_distance</th>\n",
              "      <th>euclidean_distance</th>\n",
              "      <th>minkowski_distance</th>\n",
              "      <th>braycurtis_distance</th>\n",
              "      <th>skew_q1vec</th>\n",
              "      <th>skew_q2vec</th>\n",
              "      <th>kur_q1vec</th>\n",
              "      <th>kur_q2vec</th>\n",
              "      <th>len_q1</th>\n",
              "      <th>len_q2</th>\n",
              "      <th>diff_len</th>\n",
              "      <th>len_char_q1</th>\n",
              "      <th>len_char_q2</th>\n",
              "      <th>len_word_q1</th>\n",
              "      <th>len_word_q2</th>\n",
              "      <th>common_words</th>\n",
              "      <th>fuzz_qratio</th>\n",
              "      <th>fuzz_WRatio</th>\n",
              "      <th>fuzz_partial_ratio</th>\n",
              "      <th>fuzz_partial_token_set_ratio</th>\n",
              "      <th>fuzz_partial_token_sort_ratio</th>\n",
              "      <th>fuzz_token_set_ratio</th>\n",
              "      <th>fuzz_token_sort_ratio</th>\n",
              "      <th>common_bigrams</th>\n",
              "      <th>common_trigrams</th>\n",
              "      <th>processed_q1</th>\n",
              "      <th>processed_q2</th>\n",
              "    </tr>\n",
              "  </thead>\n",
              "  <tbody>\n",
              "    <tr>\n",
              "      <th>0</th>\n",
              "      <td>What is the step by step guide to invest in sh...</td>\n",
              "      <td>What is the step by step guide to invest in sh...</td>\n",
              "      <td>0</td>\n",
              "      <td>0.564615</td>\n",
              "      <td>0.217555</td>\n",
              "      <td>0.068972</td>\n",
              "      <td>5.081614</td>\n",
              "      <td>1.0</td>\n",
              "      <td>94.023324</td>\n",
              "      <td>0.371408</td>\n",
              "      <td>0.168999</td>\n",
              "      <td>0.186557</td>\n",
              "      <td>0.031817</td>\n",
              "      <td>-0.091902</td>\n",
              "      <td>0.050416</td>\n",
              "      <td>0.337301</td>\n",
              "      <td>66</td>\n",
              "      <td>57</td>\n",
              "      <td>9</td>\n",
              "      <td>20</td>\n",
              "      <td>20</td>\n",
              "      <td>14</td>\n",
              "      <td>12</td>\n",
              "      <td>10</td>\n",
              "      <td>93</td>\n",
              "      <td>95</td>\n",
              "      <td>98</td>\n",
              "      <td>100</td>\n",
              "      <td>88</td>\n",
              "      <td>100</td>\n",
              "      <td>93</td>\n",
              "      <td>11</td>\n",
              "      <td>11</td>\n",
              "      <td>step step guid invest share market india</td>\n",
              "      <td>step step guid invest share market</td>\n",
              "    </tr>\n",
              "    <tr>\n",
              "      <th>1</th>\n",
              "      <td>What is the story of Kohinoor (Koh-i-Noor) Dia...</td>\n",
              "      <td>What would happen if the Indian government sto...</td>\n",
              "      <td>0</td>\n",
              "      <td>3.772346</td>\n",
              "      <td>1.368796</td>\n",
              "      <td>0.512164</td>\n",
              "      <td>14.195119</td>\n",
              "      <td>1.0</td>\n",
              "      <td>177.588090</td>\n",
              "      <td>1.012091</td>\n",
              "      <td>0.455910</td>\n",
              "      <td>0.592655</td>\n",
              "      <td>0.008735</td>\n",
              "      <td>0.094704</td>\n",
              "      <td>0.284010</td>\n",
              "      <td>-0.034444</td>\n",
              "      <td>51</td>\n",
              "      <td>88</td>\n",
              "      <td>-37</td>\n",
              "      <td>21</td>\n",
              "      <td>29</td>\n",
              "      <td>8</td>\n",
              "      <td>13</td>\n",
              "      <td>4</td>\n",
              "      <td>66</td>\n",
              "      <td>86</td>\n",
              "      <td>73</td>\n",
              "      <td>100</td>\n",
              "      <td>73</td>\n",
              "      <td>86</td>\n",
              "      <td>63</td>\n",
              "      <td>3</td>\n",
              "      <td>3</td>\n",
              "      <td>stori kohinoor ( koh i noor ) diamond</td>\n",
              "      <td>would happen indian govern stole kohinoor ( ko...</td>\n",
              "    </tr>\n",
              "    <tr>\n",
              "      <th>2</th>\n",
              "      <td>How can I increase the speed of my internet co...</td>\n",
              "      <td>How can Internet speed be increased by hacking...</td>\n",
              "      <td>0</td>\n",
              "      <td>1.780585</td>\n",
              "      <td>0.639209</td>\n",
              "      <td>0.222009</td>\n",
              "      <td>9.055989</td>\n",
              "      <td>1.0</td>\n",
              "      <td>135.988707</td>\n",
              "      <td>0.666346</td>\n",
              "      <td>0.307828</td>\n",
              "      <td>0.342306</td>\n",
              "      <td>0.239752</td>\n",
              "      <td>0.144554</td>\n",
              "      <td>0.026759</td>\n",
              "      <td>-0.474131</td>\n",
              "      <td>73</td>\n",
              "      <td>59</td>\n",
              "      <td>14</td>\n",
              "      <td>25</td>\n",
              "      <td>24</td>\n",
              "      <td>14</td>\n",
              "      <td>10</td>\n",
              "      <td>4</td>\n",
              "      <td>43</td>\n",
              "      <td>60</td>\n",
              "      <td>41</td>\n",
              "      <td>100</td>\n",
              "      <td>71</td>\n",
              "      <td>63</td>\n",
              "      <td>63</td>\n",
              "      <td>1</td>\n",
              "      <td>1</td>\n",
              "      <td>increas speed internet connect use vpn</td>\n",
              "      <td>internet speed increas hack dns</td>\n",
              "    </tr>\n",
              "    <tr>\n",
              "      <th>3</th>\n",
              "      <td>Why am I mentally very lonely? How can I solve...</td>\n",
              "      <td>Find the remainder when [math]23^{24}[/math] i...</td>\n",
              "      <td>0</td>\n",
              "      <td>3.741994</td>\n",
              "      <td>1.263719</td>\n",
              "      <td>0.650411</td>\n",
              "      <td>15.987437</td>\n",
              "      <td>1.0</td>\n",
              "      <td>192.237828</td>\n",
              "      <td>1.140536</td>\n",
              "      <td>0.506028</td>\n",
              "      <td>0.692421</td>\n",
              "      <td>-0.002527</td>\n",
              "      <td>0.069649</td>\n",
              "      <td>-0.244560</td>\n",
              "      <td>-0.265568</td>\n",
              "      <td>50</td>\n",
              "      <td>65</td>\n",
              "      <td>-15</td>\n",
              "      <td>19</td>\n",
              "      <td>26</td>\n",
              "      <td>11</td>\n",
              "      <td>9</td>\n",
              "      <td>0</td>\n",
              "      <td>9</td>\n",
              "      <td>27</td>\n",
              "      <td>20</td>\n",
              "      <td>32</td>\n",
              "      <td>30</td>\n",
              "      <td>28</td>\n",
              "      <td>24</td>\n",
              "      <td>0</td>\n",
              "      <td>0</td>\n",
              "      <td>mental lone solv it</td>\n",
              "      <td>find remaind math 23 24 math divid 24 23</td>\n",
              "    </tr>\n",
              "    <tr>\n",
              "      <th>4</th>\n",
              "      <td>Which one dissolve in water quikly sugar, salt...</td>\n",
              "      <td>Which fish would survive in salt water?</td>\n",
              "      <td>0</td>\n",
              "      <td>3.659165</td>\n",
              "      <td>1.240908</td>\n",
              "      <td>0.369993</td>\n",
              "      <td>12.103178</td>\n",
              "      <td>1.0</td>\n",
              "      <td>161.408435</td>\n",
              "      <td>0.860225</td>\n",
              "      <td>0.382770</td>\n",
              "      <td>0.480633</td>\n",
              "      <td>-0.133849</td>\n",
              "      <td>0.114777</td>\n",
              "      <td>0.217900</td>\n",
              "      <td>-0.338876</td>\n",
              "      <td>76</td>\n",
              "      <td>39</td>\n",
              "      <td>37</td>\n",
              "      <td>25</td>\n",
              "      <td>18</td>\n",
              "      <td>13</td>\n",
              "      <td>7</td>\n",
              "      <td>2</td>\n",
              "      <td>35</td>\n",
              "      <td>86</td>\n",
              "      <td>54</td>\n",
              "      <td>100</td>\n",
              "      <td>67</td>\n",
              "      <td>67</td>\n",
              "      <td>47</td>\n",
              "      <td>0</td>\n",
              "      <td>0</td>\n",
              "      <td>one dissolv water quik sugar salt methan carbo...</td>\n",
              "      <td>fish would surviv salt water</td>\n",
              "    </tr>\n",
              "    <tr>\n",
              "      <th>...</th>\n",
              "      <td>...</td>\n",
              "      <td>...</td>\n",
              "      <td>...</td>\n",
              "      <td>...</td>\n",
              "      <td>...</td>\n",
              "      <td>...</td>\n",
              "      <td>...</td>\n",
              "      <td>...</td>\n",
              "      <td>...</td>\n",
              "      <td>...</td>\n",
              "      <td>...</td>\n",
              "      <td>...</td>\n",
              "      <td>...</td>\n",
              "      <td>...</td>\n",
              "      <td>...</td>\n",
              "      <td>...</td>\n",
              "      <td>...</td>\n",
              "      <td>...</td>\n",
              "      <td>...</td>\n",
              "      <td>...</td>\n",
              "      <td>...</td>\n",
              "      <td>...</td>\n",
              "      <td>...</td>\n",
              "      <td>...</td>\n",
              "      <td>...</td>\n",
              "      <td>...</td>\n",
              "      <td>...</td>\n",
              "      <td>...</td>\n",
              "      <td>...</td>\n",
              "      <td>...</td>\n",
              "      <td>...</td>\n",
              "      <td>...</td>\n",
              "      <td>...</td>\n",
              "      <td>...</td>\n",
              "      <td>...</td>\n",
              "    </tr>\n",
              "    <tr>\n",
              "      <th>404346</th>\n",
              "      <td>How many keywords are there in the Racket prog...</td>\n",
              "      <td>How many keywords are there in PERL Programmin...</td>\n",
              "      <td>0</td>\n",
              "      <td>0.904016</td>\n",
              "      <td>0.227233</td>\n",
              "      <td>0.131646</td>\n",
              "      <td>7.122625</td>\n",
              "      <td>1.0</td>\n",
              "      <td>118.479153</td>\n",
              "      <td>0.513120</td>\n",
              "      <td>0.231429</td>\n",
              "      <td>0.262434</td>\n",
              "      <td>0.014864</td>\n",
              "      <td>0.134802</td>\n",
              "      <td>-0.084945</td>\n",
              "      <td>-0.477739</td>\n",
              "      <td>85</td>\n",
              "      <td>79</td>\n",
              "      <td>6</td>\n",
              "      <td>24</td>\n",
              "      <td>24</td>\n",
              "      <td>14</td>\n",
              "      <td>13</td>\n",
              "      <td>11</td>\n",
              "      <td>91</td>\n",
              "      <td>92</td>\n",
              "      <td>84</td>\n",
              "      <td>100</td>\n",
              "      <td>83</td>\n",
              "      <td>97</td>\n",
              "      <td>88</td>\n",
              "      <td>9</td>\n",
              "      <td>9</td>\n",
              "      <td>mani keyword racket program languag latest ver...</td>\n",
              "      <td>mani keyword perl program languag latest version</td>\n",
              "    </tr>\n",
              "    <tr>\n",
              "      <th>404347</th>\n",
              "      <td>Do you believe there is life after death?</td>\n",
              "      <td>Is it true that there is life after death?</td>\n",
              "      <td>1</td>\n",
              "      <td>1.306167</td>\n",
              "      <td>0.590033</td>\n",
              "      <td>0.129039</td>\n",
              "      <td>7.146889</td>\n",
              "      <td>1.0</td>\n",
              "      <td>119.485637</td>\n",
              "      <td>0.508014</td>\n",
              "      <td>0.226945</td>\n",
              "      <td>0.263738</td>\n",
              "      <td>-0.002918</td>\n",
              "      <td>0.038642</td>\n",
              "      <td>-0.147208</td>\n",
              "      <td>-0.260159</td>\n",
              "      <td>41</td>\n",
              "      <td>42</td>\n",
              "      <td>-1</td>\n",
              "      <td>17</td>\n",
              "      <td>13</td>\n",
              "      <td>8</td>\n",
              "      <td>9</td>\n",
              "      <td>5</td>\n",
              "      <td>72</td>\n",
              "      <td>75</td>\n",
              "      <td>76</td>\n",
              "      <td>100</td>\n",
              "      <td>70</td>\n",
              "      <td>79</td>\n",
              "      <td>69</td>\n",
              "      <td>5</td>\n",
              "      <td>5</td>\n",
              "      <td>believ life death</td>\n",
              "      <td>true life death</td>\n",
              "    </tr>\n",
              "    <tr>\n",
              "      <th>404348</th>\n",
              "      <td>What is one coin?</td>\n",
              "      <td>What's this coin?</td>\n",
              "      <td>0</td>\n",
              "      <td>3.656829</td>\n",
              "      <td>1.382975</td>\n",
              "      <td>0.069016</td>\n",
              "      <td>5.065351</td>\n",
              "      <td>1.0</td>\n",
              "      <td>91.936365</td>\n",
              "      <td>0.371527</td>\n",
              "      <td>0.170819</td>\n",
              "      <td>0.182876</td>\n",
              "      <td>-0.193922</td>\n",
              "      <td>-0.147340</td>\n",
              "      <td>-0.279527</td>\n",
              "      <td>-0.397618</td>\n",
              "      <td>17</td>\n",
              "      <td>17</td>\n",
              "      <td>0</td>\n",
              "      <td>11</td>\n",
              "      <td>11</td>\n",
              "      <td>4</td>\n",
              "      <td>3</td>\n",
              "      <td>1</td>\n",
              "      <td>75</td>\n",
              "      <td>75</td>\n",
              "      <td>76</td>\n",
              "      <td>100</td>\n",
              "      <td>75</td>\n",
              "      <td>75</td>\n",
              "      <td>75</td>\n",
              "      <td>1</td>\n",
              "      <td>1</td>\n",
              "      <td>one coin</td>\n",
              "      <td>what 's coin</td>\n",
              "    </tr>\n",
              "    <tr>\n",
              "      <th>404349</th>\n",
              "      <td>What is the approx annual cost of living while...</td>\n",
              "      <td>I am having little hairfall problem but I want...</td>\n",
              "      <td>0</td>\n",
              "      <td>3.575980</td>\n",
              "      <td>1.313263</td>\n",
              "      <td>0.708233</td>\n",
              "      <td>16.438430</td>\n",
              "      <td>1.0</td>\n",
              "      <td>194.867266</td>\n",
              "      <td>1.190154</td>\n",
              "      <td>0.540202</td>\n",
              "      <td>0.737343</td>\n",
              "      <td>-0.018571</td>\n",
              "      <td>-0.155503</td>\n",
              "      <td>-0.382487</td>\n",
              "      <td>-0.162977</td>\n",
              "      <td>94</td>\n",
              "      <td>127</td>\n",
              "      <td>-33</td>\n",
              "      <td>26</td>\n",
              "      <td>27</td>\n",
              "      <td>17</td>\n",
              "      <td>25</td>\n",
              "      <td>1</td>\n",
              "      <td>30</td>\n",
              "      <td>35</td>\n",
              "      <td>34</td>\n",
              "      <td>100</td>\n",
              "      <td>36</td>\n",
              "      <td>37</td>\n",
              "      <td>35</td>\n",
              "      <td>0</td>\n",
              "      <td>0</td>\n",
              "      <td>approx annual cost live studi uic chicago indi...</td>\n",
              "      <td>littl hairfal problem want use hair style prod...</td>\n",
              "    </tr>\n",
              "    <tr>\n",
              "      <th>404350</th>\n",
              "      <td>What is like to have sex with cousin?</td>\n",
              "      <td>What is it like to have sex with your cousin?</td>\n",
              "      <td>0</td>\n",
              "      <td>0.000000</td>\n",
              "      <td>0.000000</td>\n",
              "      <td>0.000000</td>\n",
              "      <td>0.000000</td>\n",
              "      <td>0.0</td>\n",
              "      <td>0.000000</td>\n",
              "      <td>0.000000</td>\n",
              "      <td>0.000000</td>\n",
              "      <td>0.000000</td>\n",
              "      <td>0.188143</td>\n",
              "      <td>0.188143</td>\n",
              "      <td>0.487497</td>\n",
              "      <td>0.487497</td>\n",
              "      <td>37</td>\n",
              "      <td>45</td>\n",
              "      <td>-8</td>\n",
              "      <td>17</td>\n",
              "      <td>19</td>\n",
              "      <td>8</td>\n",
              "      <td>10</td>\n",
              "      <td>8</td>\n",
              "      <td>90</td>\n",
              "      <td>95</td>\n",
              "      <td>86</td>\n",
              "      <td>100</td>\n",
              "      <td>92</td>\n",
              "      <td>100</td>\n",
              "      <td>90</td>\n",
              "      <td>6</td>\n",
              "      <td>6</td>\n",
              "      <td>like sex cousin</td>\n",
              "      <td>like sex cousin</td>\n",
              "    </tr>\n",
              "  </tbody>\n",
              "</table>\n",
              "<p>404351 rows × 35 columns</p>\n",
              "</div>"
            ],
            "text/plain": [
              "                                                question1  ...                                       processed_q2\n",
              "0       What is the step by step guide to invest in sh...  ...                 step step guid invest share market\n",
              "1       What is the story of Kohinoor (Koh-i-Noor) Dia...  ...  would happen indian govern stole kohinoor ( ko...\n",
              "2       How can I increase the speed of my internet co...  ...                    internet speed increas hack dns\n",
              "3       Why am I mentally very lonely? How can I solve...  ...           find remaind math 23 24 math divid 24 23\n",
              "4       Which one dissolve in water quikly sugar, salt...  ...                       fish would surviv salt water\n",
              "...                                                   ...  ...                                                ...\n",
              "404346  How many keywords are there in the Racket prog...  ...   mani keyword perl program languag latest version\n",
              "404347          Do you believe there is life after death?  ...                                    true life death\n",
              "404348                                  What is one coin?  ...                                       what 's coin\n",
              "404349  What is the approx annual cost of living while...  ...  littl hairfal problem want use hair style prod...\n",
              "404350              What is like to have sex with cousin?  ...                                    like sex cousin\n",
              "\n",
              "[404351 rows x 35 columns]"
            ]
          },
          "metadata": {
            "tags": []
          },
          "execution_count": 143
        }
      ]
    },
    {
      "cell_type": "markdown",
      "metadata": {
        "id": "2p-iTU5JCQNY"
      },
      "source": [
        "# Unigram features"
      ]
    },
    {
      "cell_type": "markdown",
      "metadata": {
        "id": "s7WEjF-q4u4U"
      },
      "source": [
        "#UNIGRAM"
      ]
    },
    {
      "cell_type": "code",
      "metadata": {
        "id": "Q6RHV0_2xfcu"
      },
      "source": [
        "from sklearn.feature_extraction.text import TfidfVectorizer\n",
        "from copy import deepcopy\n",
        "tfv_q1_unigram = TfidfVectorizer(min_df=3, \n",
        "max_features=10,\n",
        "ngram_range=(1, 1), \n",
        "use_idf=1, \n",
        "smooth_idf=1, \n",
        "sublinear_tf=1,\n",
        ")\n",
        "\n",
        "tfv_q2_unigram = deepcopy(tfv_q1_unigram)"
      ],
      "execution_count": 252,
      "outputs": []
    },
    {
      "cell_type": "code",
      "metadata": {
        "id": "Z3k1q7HNC69s"
      },
      "source": [
        "from sklearn.model_selection import train_test_split\n",
        "X_train,X_test,y_train,y_test=train_test_split(data,data.is_duplicate,test_size=0.2,random_state=45)\n",
        "y_train = y_train.values.astype('float32').reshape(-1, 1)\n",
        "y_test= y_test.values.astype('float32').reshape(-1, 1)"
      ],
      "execution_count": 253,
      "outputs": []
    },
    {
      "cell_type": "code",
      "metadata": {
        "id": "285_oddBxgOU"
      },
      "source": [
        "q1_tfidf_train = tfv_q1_unigram.fit_transform(X_train.processed_q1.fillna(\"\"))\n",
        "q2_tfidf_train = tfv_q2_unigram.fit_transform(X_train.processed_q2.fillna(\"\"))\n",
        "q1_tfidf_test = tfv_q1_unigram.fit_transform(X_test.processed_q1.fillna(\"\"))\n",
        "q2_tfidf_test = tfv_q2_unigram.fit_transform(X_test.processed_q2.fillna(\"\"))"
      ],
      "execution_count": 254,
      "outputs": []
    },
    {
      "cell_type": "code",
      "metadata": {
        "colab": {
          "base_uri": "https://localhost:8080/"
        },
        "id": "eeaLaaq0CiKX",
        "outputId": "c6fe9f37-77b4-41c2-e760-741b214adc39"
      },
      "source": [
        "q1_tfidf_train.shape"
      ],
      "execution_count": 255,
      "outputs": [
        {
          "output_type": "execute_result",
          "data": {
            "text/plain": [
              "(323480, 10)"
            ]
          },
          "metadata": {
            "tags": []
          },
          "execution_count": 255
        }
      ]
    },
    {
      "cell_type": "code",
      "metadata": {
        "colab": {
          "base_uri": "https://localhost:8080/"
        },
        "id": "sZbwZ153ClvR",
        "outputId": "03c42cba-7e62-4341-cac2-aaf47f7bc506"
      },
      "source": [
        "q2_tfidf_train.shape"
      ],
      "execution_count": 256,
      "outputs": [
        {
          "output_type": "execute_result",
          "data": {
            "text/plain": [
              "(323480, 10)"
            ]
          },
          "metadata": {
            "tags": []
          },
          "execution_count": 256
        }
      ]
    },
    {
      "cell_type": "code",
      "metadata": {
        "id": "7k-p7vvdyF-3"
      },
      "source": [
        "from scipy import sparse\n",
        "# obtain features by stacking the sparse matrices together\n",
        "fs3_1_train = sparse.hstack((q1_tfidf_train, q2_tfidf_train))\n",
        "fs3_1_test = sparse.hstack((q1_tfidf_test, q2_tfidf_test))"
      ],
      "execution_count": 257,
      "outputs": []
    },
    {
      "cell_type": "code",
      "metadata": {
        "colab": {
          "base_uri": "https://localhost:8080/"
        },
        "id": "KnklOhtLy0xO",
        "outputId": "09c37438-08c9-4e57-89ee-31c58d447cab"
      },
      "source": [
        "fs3_1_train.shape"
      ],
      "execution_count": 258,
      "outputs": [
        {
          "output_type": "execute_result",
          "data": {
            "text/plain": [
              "(323480, 20)"
            ]
          },
          "metadata": {
            "tags": []
          },
          "execution_count": 258
        }
      ]
    },
    {
      "cell_type": "code",
      "metadata": {
        "colab": {
          "base_uri": "https://localhost:8080/"
        },
        "id": "IImB5eBlEJ27",
        "outputId": "41da5672-cbf2-43d6-954c-5401ce73bf73"
      },
      "source": [
        "fs3_1_test.shape"
      ],
      "execution_count": 259,
      "outputs": [
        {
          "output_type": "execute_result",
          "data": {
            "text/plain": [
              "(80871, 20)"
            ]
          },
          "metadata": {
            "tags": []
          },
          "execution_count": 259
        }
      ]
    },
    {
      "cell_type": "markdown",
      "metadata": {
        "id": "mVAIRtyLLDhD"
      },
      "source": [
        "##Logistic on unigram"
      ]
    },
    {
      "cell_type": "code",
      "metadata": {
        "colab": {
          "base_uri": "https://localhost:8080/"
        },
        "id": "OGm-5kue9bsW",
        "outputId": "ae0eb3e7-f532-48c2-f473-5c84c755404d"
      },
      "source": [
        "#train model\n",
        "clf_unigram = sklearn.linear_model.LogisticRegression(tol=0.001, C=1.2, max_iter=100, solver='liblinear')\n",
        "clf_unigram.fit(fs3_1_train, y_train)\n",
        " \n",
        "#evaluation\n",
        "predictions = clf_unigram.predict(fs3_1_test)\n",
        "score = clf_unigram.score(fs3_1_train, y_train)\n",
        "print(\"Accuracy on train data with sklearn = \",score*100 ,\"%\")\n",
        "\n",
        "predictions = clf_unigram.predict(fs3_1_test)\n",
        "score = clf_unigram.score(fs3_1_test, y_test)\n",
        "print(\"Accuracy on test data with sklearn = \",score*100 ,\"%\")\n",
        "print(\"F1 score \",f1_score(y_test, predictions, average='weighted'))"
      ],
      "execution_count": 260,
      "outputs": [
        {
          "output_type": "stream",
          "text": [
            "/usr/local/lib/python3.7/dist-packages/sklearn/utils/validation.py:760: DataConversionWarning: A column-vector y was passed when a 1d array was expected. Please change the shape of y to (n_samples, ), for example using ravel().\n",
            "  y = column_or_1d(y, warn=True)\n"
          ],
          "name": "stderr"
        },
        {
          "output_type": "stream",
          "text": [
            "Accuracy on train data with sklearn =  63.73067886731791 %\n",
            "Accuracy on test data with sklearn =  63.72123505335659 %\n",
            "F1 score  0.5379045680443973\n"
          ],
          "name": "stdout"
        }
      ]
    },
    {
      "cell_type": "markdown",
      "metadata": {
        "id": "oZZ59MJ6QpYe"
      },
      "source": [
        "### SVM on unigram"
      ]
    },
    {
      "cell_type": "code",
      "metadata": {
        "id": "p7Bf1AEvFVJR"
      },
      "source": [
        "q1_tfidf_train_svm = tfv_q1_unigram.fit_transform(X_train.processed_q1[:50000].fillna(\"\"))\n",
        "q2_tfidf_train_svm = tfv_q2_unigram.fit_transform(X_train.processed_q2[:50000].fillna(\"\"))\n",
        "q1_tfidf_test_svm = tfv_q1_unigram.fit_transform(X_test.processed_q1.fillna(\"\"))\n",
        "q2_tfidf_test_svm = tfv_q2_unigram.fit_transform(X_test.processed_q2.fillna(\"\"))\n",
        "fs3_1_train_svm = sparse.hstack((q1_tfidf_train_svm, q2_tfidf_train_svm))\n",
        "fs3_1_test_svm = sparse.hstack((q1_tfidf_test_svm, q2_tfidf_test_svm))"
      ],
      "execution_count": 261,
      "outputs": []
    },
    {
      "cell_type": "code",
      "metadata": {
        "id": "n7QFb1G7MBuP"
      },
      "source": [
        ""
      ],
      "execution_count": 261,
      "outputs": []
    },
    {
      "cell_type": "code",
      "metadata": {
        "colab": {
          "base_uri": "https://localhost:8080/"
        },
        "id": "znzfTojzHS2q",
        "outputId": "c911faee-1ac9-40ad-8004-e9e61e53c985"
      },
      "source": [
        "from sklearn import svm\n",
        "clsvm = svm.SVC(kernel='linear')\n",
        "clsvm.fit(fs3_1_train_svm, y_train[0:50000])\n",
        "prediction_SVM_all = clsvm.predict(fs3_1_test_svm)"
      ],
      "execution_count": 262,
      "outputs": [
        {
          "output_type": "stream",
          "text": [
            "/usr/local/lib/python3.7/dist-packages/sklearn/utils/validation.py:760: DataConversionWarning: A column-vector y was passed when a 1d array was expected. Please change the shape of y to (n_samples, ), for example using ravel().\n",
            "  y = column_or_1d(y, warn=True)\n"
          ],
          "name": "stderr"
        }
      ]
    },
    {
      "cell_type": "code",
      "metadata": {
        "colab": {
          "base_uri": "https://localhost:8080/"
        },
        "id": "dIrpwjQKMW-r",
        "outputId": "d1dc1461-bc95-4890-d13d-806f8d7d36ee"
      },
      "source": [
        "score = clsvm.score(fs3_1_test_svm, y_test)\n",
        "print(\"Accuracy on test data with sklearn svm= \",score*100 ,\"%\")\n",
        "print(\"F1 score \",f1_score(y_test, prediction_SVM_all, average='weighted'))"
      ],
      "execution_count": 264,
      "outputs": [
        {
          "output_type": "stream",
          "text": [
            "Accuracy on test data with sklearn svm=  61.58820838124915 %\n",
            "F1 score  0.49404497234349376\n"
          ],
          "name": "stdout"
        }
      ]
    },
    {
      "cell_type": "markdown",
      "metadata": {
        "id": "8rMPIM6cFVpp"
      },
      "source": [
        "#Bigram"
      ]
    },
    {
      "cell_type": "code",
      "metadata": {
        "id": "X6KP9YSQFX_q"
      },
      "source": [
        "\n",
        "tfv_q1_bi = TfidfVectorizer(min_df=3, \n",
        "max_features=10, \n",
        "ngram_range=(2, 2), \n",
        "use_idf=1, \n",
        "smooth_idf=1, \n",
        "sublinear_tf=1,\n",
        ")\n",
        "\n",
        "tfv_q2_bi = deepcopy(tfv_q1_bi)"
      ],
      "execution_count": 265,
      "outputs": []
    },
    {
      "cell_type": "code",
      "metadata": {
        "id": "w3G3cX975ZNi"
      },
      "source": [
        "q1_tfidf_train = tfv_q1_bi.fit_transform(X_train.processed_q1.fillna(\"\"))\n",
        "q2_tfidf_train = tfv_q2_bi.fit_transform(X_train.processed_q2.fillna(\"\"))\n",
        "q1_tfidf_test = tfv_q1_bi.fit_transform(X_test.processed_q1.fillna(\"\"))\n",
        "q2_tfidf_test = tfv_q2_bi.fit_transform(X_test.processed_q2.fillna(\"\"))\n",
        "fs3_1_train = sparse.hstack((q1_tfidf_train, q2_tfidf_train))\n",
        "fs3_1_test = sparse.hstack((q1_tfidf_test, q2_tfidf_test))"
      ],
      "execution_count": 266,
      "outputs": []
    },
    {
      "cell_type": "code",
      "metadata": {
        "colab": {
          "base_uri": "https://localhost:8080/"
        },
        "id": "ph2860MPNFqN",
        "outputId": "9812390f-be26-4180-8d19-f69a9a55c6f9"
      },
      "source": [
        "fs3_1_test.shape"
      ],
      "execution_count": 267,
      "outputs": [
        {
          "output_type": "execute_result",
          "data": {
            "text/plain": [
              "(80871, 20)"
            ]
          },
          "metadata": {
            "tags": []
          },
          "execution_count": 267
        }
      ]
    },
    {
      "cell_type": "markdown",
      "metadata": {
        "id": "qvG46HxMQtWo"
      },
      "source": [
        "### Logistic regression on bigram features"
      ]
    },
    {
      "cell_type": "code",
      "metadata": {
        "colab": {
          "base_uri": "https://localhost:8080/"
        },
        "id": "fkJc9GGoM1Bx",
        "outputId": "f7adbfbc-1b20-4976-9e37-b642dde2fafc"
      },
      "source": [
        "#train model\n",
        "clf_bigram = sklearn.linear_model.LogisticRegression(tol=0.001, C=1.2, max_iter=100, solver='liblinear')\n",
        "clf_bigram.fit(fs3_1_train, y_train)\n",
        " \n",
        "#evaluation\n",
        "predictions = clf_bigram.predict(fs3_1_test)\n",
        "score = clf_bigram.score(fs3_1_train, y_train)\n",
        "print(\"Accuracy on train data with sklearn = \",score*100 ,\"%\")\n",
        "\n",
        "predictions = clf_bigram.predict(fs3_1_test)\n",
        "score = clf_bigram.score(fs3_1_test, y_test)\n",
        "print(\"Accuracy on test data with sklearn = \",score*100 ,\"%\")\n",
        "print(\"F1 score \",f1_score(y_test, predictions, average='weighted'))"
      ],
      "execution_count": 268,
      "outputs": [
        {
          "output_type": "stream",
          "text": [
            "/usr/local/lib/python3.7/dist-packages/sklearn/utils/validation.py:760: DataConversionWarning: A column-vector y was passed when a 1d array was expected. Please change the shape of y to (n_samples, ), for example using ravel().\n",
            "  y = column_or_1d(y, warn=True)\n"
          ],
          "name": "stderr"
        },
        {
          "output_type": "stream",
          "text": [
            "Accuracy on train data with sklearn =  65.37189316186472 %\n",
            "Accuracy on test data with sklearn =  65.57480431798791 %\n",
            "F1 score  0.5642617557938848\n"
          ],
          "name": "stdout"
        }
      ]
    },
    {
      "cell_type": "markdown",
      "metadata": {
        "id": "40OvTacYQx7F"
      },
      "source": [
        "### SVM on bigram features"
      ]
    },
    {
      "cell_type": "code",
      "metadata": {
        "id": "sriximJGNh19"
      },
      "source": [
        "q1_tfidf_train_svm = tfv_q1_bi.fit_transform(X_train.processed_q1[:50000].fillna(\"\"))\n",
        "q2_tfidf_train_svm = tfv_q2_bi.fit_transform(X_train.processed_q2[:50000].fillna(\"\"))\n",
        "q1_tfidf_test_svm = tfv_q1_bi.fit_transform(X_test.processed_q1.fillna(\"\"))\n",
        "q2_tfidf_test_svm = tfv_q2_bi.fit_transform(X_test.processed_q2.fillna(\"\"))\n",
        "fs3_1_train_svm = sparse.hstack((q1_tfidf_train_svm, q2_tfidf_train_svm))\n",
        "fs3_1_test_svm = sparse.hstack((q1_tfidf_test_svm, q2_tfidf_test_svm))"
      ],
      "execution_count": 269,
      "outputs": []
    },
    {
      "cell_type": "code",
      "metadata": {
        "colab": {
          "base_uri": "https://localhost:8080/"
        },
        "id": "dkAahGGpNXT3",
        "outputId": "cb6edc99-0ac2-4321-88d5-7085ffac556d"
      },
      "source": [
        "from sklearn import svm\n",
        "clsvm = svm.SVC(kernel='linear')\n",
        "clsvm.fit(fs3_1_train_svm, y_train[0:50000])\n",
        "prediction_SVM_all = clsvm.predict(fs3_1_test_svm)\n",
        "score = clsvm.score(fs3_1_train_svm,  y_train[0:50000])\n",
        "print(\"Accuracy on train data with sklearn svm= \",score*100 ,\"%\")\n",
        "score = clsvm.score(fs3_1_test_svm, y_test)\n",
        "print(\"Accuracy on test data with sklearn svm= \",score*100 ,\"%\")\n",
        "print(\"F1 score \",f1_score(y_test, prediction_SVM_all, average='weighted'))"
      ],
      "execution_count": 270,
      "outputs": [
        {
          "output_type": "stream",
          "text": [
            "/usr/local/lib/python3.7/dist-packages/sklearn/utils/validation.py:760: DataConversionWarning: A column-vector y was passed when a 1d array was expected. Please change the shape of y to (n_samples, ), for example using ravel().\n",
            "  y = column_or_1d(y, warn=True)\n"
          ],
          "name": "stderr"
        },
        {
          "output_type": "stream",
          "text": [
            "Accuracy on train data with sklearn svm=  65.396 %\n",
            "Accuracy on test data with sklearn svm=  65.49690247431094 %\n",
            "F1 score  0.5602575086035515\n"
          ],
          "name": "stdout"
        }
      ]
    },
    {
      "cell_type": "markdown",
      "metadata": {
        "id": "FUCqe2iHNoqN"
      },
      "source": [
        "#Trigram"
      ]
    },
    {
      "cell_type": "code",
      "metadata": {
        "id": "8b3cFjCyM4Sh"
      },
      "source": [
        "tfv_q1_tri = TfidfVectorizer(min_df=3, \n",
        "max_features=10, \n",
        "ngram_range=(3, 3), \n",
        "use_idf=1, \n",
        "smooth_idf=1, \n",
        "sublinear_tf=1,\n",
        ")\n",
        "\n",
        "tfv_q2_tri = deepcopy(tfv_q1_tri)"
      ],
      "execution_count": 271,
      "outputs": []
    },
    {
      "cell_type": "code",
      "metadata": {
        "id": "wirJQmahNw6v"
      },
      "source": [
        "q1_tfidf_train = tfv_q1_tri.fit_transform(X_train.processed_q1.fillna(\"\"))\n",
        "q2_tfidf_train = tfv_q2_tri.fit_transform(X_train.processed_q2.fillna(\"\"))\n",
        "q1_tfidf_test = tfv_q1_tri.fit_transform(X_test.processed_q1.fillna(\"\"))\n",
        "q2_tfidf_test = tfv_q2_tri.fit_transform(X_test.processed_q2.fillna(\"\"))\n",
        "fs3_1_train = sparse.hstack((q1_tfidf_train, q2_tfidf_train))\n",
        "fs3_1_test = sparse.hstack((q1_tfidf_test, q2_tfidf_test))"
      ],
      "execution_count": 272,
      "outputs": []
    },
    {
      "cell_type": "markdown",
      "metadata": {
        "id": "DQfQBiPrQ6lS"
      },
      "source": [
        "### Logistic on bigram features"
      ]
    },
    {
      "cell_type": "code",
      "metadata": {
        "colab": {
          "base_uri": "https://localhost:8080/"
        },
        "id": "1kLKZmdkN2ZC",
        "outputId": "88b7e40d-04cb-42bc-9264-75e1af0297e6"
      },
      "source": [
        "#train model\n",
        "clf_tri = sklearn.linear_model.LogisticRegression(tol=0.001, C=1.2, max_iter=100, solver='liblinear')\n",
        "clf_tri.fit(fs3_1_train, y_train)\n",
        " \n",
        "#evaluation\n",
        "predictions = clf_tri.predict(fs3_1_test)\n",
        "score = clf_tri.score(fs3_1_train, y_train)\n",
        "print(\"Accuracy on train data with sklearn = \",score*100 ,\"%\")\n",
        "\n",
        "predictions = clf_tri.predict(fs3_1_test)\n",
        "score = clf_tri.score(fs3_1_test, y_test)\n",
        "print(\"Accuracy on test data with sklearn = \",score*100 ,\"%\")\n",
        "print(\"F1 score \",f1_score(y_test, predictions, average='weighted'))"
      ],
      "execution_count": 273,
      "outputs": [
        {
          "output_type": "stream",
          "text": [
            "/usr/local/lib/python3.7/dist-packages/sklearn/utils/validation.py:760: DataConversionWarning: A column-vector y was passed when a 1d array was expected. Please change the shape of y to (n_samples, ), for example using ravel().\n",
            "  y = column_or_1d(y, warn=True)\n"
          ],
          "name": "stderr"
        },
        {
          "output_type": "stream",
          "text": [
            "Accuracy on train data with sklearn =  63.95913194015086 %\n",
            "Accuracy on test data with sklearn =  63.99698284922902 %\n",
            "F1 score  0.5076880047541213\n"
          ],
          "name": "stdout"
        }
      ]
    },
    {
      "cell_type": "markdown",
      "metadata": {
        "id": "QSqODaJ2RC2v"
      },
      "source": [
        "### SVM on trigram features"
      ]
    },
    {
      "cell_type": "code",
      "metadata": {
        "id": "R27P7OyGOSqO"
      },
      "source": [
        "q1_tfidf_train_svm = tfv_q1_tri.fit_transform(X_train.processed_q1[:50000].fillna(\"\"))\n",
        "q2_tfidf_train_svm = tfv_q2_tri.fit_transform(X_train.processed_q2[:50000].fillna(\"\"))\n",
        "q1_tfidf_test_svm = tfv_q1_tri.fit_transform(X_test.processed_q1.fillna(\"\"))\n",
        "q2_tfidf_test_svm = tfv_q2_tri.fit_transform(X_test.processed_q2.fillna(\"\"))\n",
        "fs3_1_train_svm = sparse.hstack((q1_tfidf_train_svm, q2_tfidf_train_svm))\n",
        "fs3_1_test_svm = sparse.hstack((q1_tfidf_test_svm, q2_tfidf_test_svm))"
      ],
      "execution_count": null,
      "outputs": []
    },
    {
      "cell_type": "code",
      "metadata": {
        "colab": {
          "base_uri": "https://localhost:8080/"
        },
        "id": "h-UwvblX2_Ar",
        "outputId": "01ca82fd-297f-48ee-cbbf-709388854af9"
      },
      "source": [
        "from sklearn import svm\n",
        "clsvm = svm.SVC(kernel='linear')\n",
        "clsvm.fit(fs3_1_train_svm, y_train[0:50000])\n",
        "prediction_SVM_all = clsvm.predict(fs3_1_test_svm)\n",
        "score = clsvm.score(fs3_1_train_svm,  y_train[0:50000])\n",
        "print(\"Accuracy on train data with sklearn svm= \",score*100 ,\"%\")\n",
        "score = clsvm.score(fs3_1_test_svm, y_test)\n",
        "print(\"Accuracy on test data with sklearn svm= \",score*100 ,\"%\")\n",
        "print(\"F1 score \",f1_score(y_test, prediction_SVM_all, average='weighted'))"
      ],
      "execution_count": 274,
      "outputs": [
        {
          "output_type": "stream",
          "text": [
            "/usr/local/lib/python3.7/dist-packages/sklearn/utils/validation.py:760: DataConversionWarning: A column-vector y was passed when a 1d array was expected. Please change the shape of y to (n_samples, ), for example using ravel().\n",
            "  y = column_or_1d(y, warn=True)\n"
          ],
          "name": "stderr"
        },
        {
          "output_type": "stream",
          "text": [
            "Accuracy on train data with sklearn svm=  65.396 %\n",
            "Accuracy on test data with sklearn svm=  65.49690247431094 %\n",
            "F1 score  0.5602575086035515\n"
          ],
          "name": "stdout"
        }
      ]
    },
    {
      "cell_type": "markdown",
      "metadata": {
        "id": "1l48Qx8KOmlG"
      },
      "source": [
        "#UNIGRAM + BIGRAM + TRIGRAM"
      ]
    },
    {
      "cell_type": "code",
      "metadata": {
        "id": "PWhS-04POkfK"
      },
      "source": [
        "tfv_q1_all = TfidfVectorizer(min_df=3, \n",
        "max_features=20, \n",
        "ngram_range=(1, 3), \n",
        "use_idf=1, \n",
        "smooth_idf=1, \n",
        "sublinear_tf=1,\n",
        ")\n",
        "\n",
        "tfv_q2_all = deepcopy(tfv_q1_all)"
      ],
      "execution_count": 275,
      "outputs": []
    },
    {
      "cell_type": "code",
      "metadata": {
        "id": "P7vD0OqZO5ly"
      },
      "source": [
        "q1_tfidf_train = tfv_q1_all.fit_transform(X_train.processed_q1.fillna(\"\"))\n",
        "q2_tfidf_train = tfv_q2_all.fit_transform(X_train.processed_q2.fillna(\"\"))\n",
        "q1_tfidf_test = tfv_q1_all.fit_transform(X_test.processed_q1.fillna(\"\"))\n",
        "q2_tfidf_test = tfv_q2_all.fit_transform(X_test.processed_q2.fillna(\"\"))\n",
        "fs3_1_train = sparse.hstack((q1_tfidf_train, q2_tfidf_train))\n",
        "fs3_1_test = sparse.hstack((q1_tfidf_test, q2_tfidf_test))"
      ],
      "execution_count": 276,
      "outputs": []
    },
    {
      "cell_type": "code",
      "metadata": {
        "id": "-URypKcYRLyJ"
      },
      "source": [
        ""
      ],
      "execution_count": 276,
      "outputs": []
    },
    {
      "cell_type": "markdown",
      "metadata": {
        "id": "mp-DhK1GRMDV"
      },
      "source": [
        "### Logistic on unigram + bigram + trigram features"
      ]
    },
    {
      "cell_type": "code",
      "metadata": {
        "colab": {
          "base_uri": "https://localhost:8080/"
        },
        "id": "Wuka_7C8O9qc",
        "outputId": "4317e218-9922-4288-f0ee-41a0cc28c065"
      },
      "source": [
        "#train model\n",
        "clf_all = sklearn.linear_model.LogisticRegression(tol=0.001, C=1.2, max_iter=100, solver='liblinear')\n",
        "clf_all.fit(fs3_1_train, y_train)\n",
        " \n",
        "#evaluation\n",
        "predictions = clf_all.predict(fs3_1_test)\n",
        "score = clf_all.score(fs3_1_train, y_train)\n",
        "print(\"Accuracy on train data with sklearn = \",score*100 ,\"%\")\n",
        "\n",
        "predictions = clf_all.predict(fs3_1_test)\n",
        "score = clf_all.score(fs3_1_test, y_test)\n",
        "print(\"Accuracy on test data with sklearn = \",score*100 ,\"%\")\n",
        "print(\"F1 score \",f1_score(y_test, predictions, average='weighted'))"
      ],
      "execution_count": 277,
      "outputs": [
        {
          "output_type": "stream",
          "text": [
            "/usr/local/lib/python3.7/dist-packages/sklearn/utils/validation.py:760: DataConversionWarning: A column-vector y was passed when a 1d array was expected. Please change the shape of y to (n_samples, ), for example using ravel().\n",
            "  y = column_or_1d(y, warn=True)\n"
          ],
          "name": "stderr"
        },
        {
          "output_type": "stream",
          "text": [
            "Accuracy on train data with sklearn =  65.24236428836404 %\n",
            "Accuracy on test data with sklearn =  65.36830260538389 %\n",
            "F1 score  0.5914047570798305\n"
          ],
          "name": "stdout"
        }
      ]
    },
    {
      "cell_type": "markdown",
      "metadata": {
        "id": "8oAk0GPWRTBc"
      },
      "source": [
        "### SVM on unigram + bigram + trigram features"
      ]
    },
    {
      "cell_type": "code",
      "metadata": {
        "id": "Ur9bkSztPcNs"
      },
      "source": [
        "q1_tfidf_train_svm = tfv_q1_tri.fit_transform(X_train.processed_q1[:50000].fillna(\"\"))\n",
        "q2_tfidf_train_svm = tfv_q2_tri.fit_transform(X_train.processed_q2[:50000].fillna(\"\"))\n",
        "q1_tfidf_test_svm = tfv_q1_tri.fit_transform(X_test.processed_q1.fillna(\"\"))\n",
        "q2_tfidf_test_svm = tfv_q2_tri.fit_transform(X_test.processed_q2.fillna(\"\"))\n",
        "fs3_1_train_svm = sparse.hstack((q1_tfidf_train_svm, q2_tfidf_train_svm))\n",
        "fs3_1_test_svm = sparse.hstack((q1_tfidf_test_svm, q2_tfidf_test_svm))"
      ],
      "execution_count": 278,
      "outputs": []
    },
    {
      "cell_type": "code",
      "metadata": {
        "colab": {
          "base_uri": "https://localhost:8080/"
        },
        "id": "R09SV8M3RJbA",
        "outputId": "bfe2550f-61eb-4d69-e273-5c9d984318ee"
      },
      "source": [
        "from sklearn import svm\n",
        "clsvm = svm.SVC(kernel='linear')\n",
        "clsvm.fit(fs3_1_train_svm, y_train[0:50000])\n",
        "prediction_SVM_all = clsvm.predict(fs3_1_test_svm)\n",
        "score = clsvm.score(fs3_1_train_svm,  y_train[0:50000])\n",
        "print(\"Accuracy on train data with sklearn svm= \",score*100 ,\"%\")\n",
        "score = clsvm.score(fs3_1_test_svm, y_test)\n",
        "print(\"Accuracy on test data with sklearn svm= \",score*100 ,\"%\")\n",
        "print(\"F1 score \",f1_score(y_test, prediction_SVM_all, average='weighted'))"
      ],
      "execution_count": 279,
      "outputs": [
        {
          "output_type": "stream",
          "text": [
            "/usr/local/lib/python3.7/dist-packages/sklearn/utils/validation.py:760: DataConversionWarning: A column-vector y was passed when a 1d array was expected. Please change the shape of y to (n_samples, ), for example using ravel().\n",
            "  y = column_or_1d(y, warn=True)\n"
          ],
          "name": "stderr"
        },
        {
          "output_type": "stream",
          "text": [
            "Accuracy on train data with sklearn svm=  64.068 %\n",
            "Accuracy on test data with sklearn svm=  63.809029194643315 %\n",
            "F1 score  0.506610953975886\n"
          ],
          "name": "stdout"
        }
      ]
    },
    {
      "cell_type": "markdown",
      "metadata": {
        "id": "QMLWOgBeaQ1b"
      },
      "source": [
        "#Basic Features"
      ]
    },
    {
      "cell_type": "code",
      "metadata": {
        "id": "iOhk3EuKaZwT"
      },
      "source": [
        "data_basic=data[fs_1]\n",
        "label = data['is_duplicate']"
      ],
      "execution_count": 358,
      "outputs": []
    },
    {
      "cell_type": "code",
      "metadata": {
        "colab": {
          "base_uri": "https://localhost:8080/"
        },
        "id": "SLeE2dm5ahta",
        "outputId": "5fcc8753-2d3a-4dc6-9fb1-096eb0363df0"
      },
      "source": [
        "nanIndices = np.argwhere(np.isnan(np.asarray(data_basic)))\n",
        "print(nanIndices)"
      ],
      "execution_count": 359,
      "outputs": [
        {
          "output_type": "stream",
          "text": [
            "[]\n"
          ],
          "name": "stdout"
        }
      ]
    },
    {
      "cell_type": "code",
      "metadata": {
        "id": "KFjLCI7mamS6"
      },
      "source": [
        "from sklearn.preprocessing import StandardScaler\n",
        "scaler = StandardScaler()\n",
        "# transform data\n",
        "X = scaler.fit_transform(np.asarray(data_basic))"
      ],
      "execution_count": 370,
      "outputs": []
    },
    {
      "cell_type": "code",
      "metadata": {
        "colab": {
          "base_uri": "https://localhost:8080/"
        },
        "id": "ydGP7PEcanAN",
        "outputId": "78e937b6-bb81-41d0-b3bf-8c97c4f826ac"
      },
      "source": [
        "y = np.asarray(label)\n",
        "print(X.shape)\n",
        "print(y.shape)"
      ],
      "execution_count": 371,
      "outputs": [
        {
          "output_type": "stream",
          "text": [
            "(404351, 8)\n",
            "(404351,)\n"
          ],
          "name": "stdout"
        }
      ]
    },
    {
      "cell_type": "code",
      "metadata": {
        "colab": {
          "base_uri": "https://localhost:8080/"
        },
        "id": "eWRM_4xDasc2",
        "outputId": "f4c77554-195c-4688-a4cc-ab0c3efc6f67"
      },
      "source": [
        "X_train,X_test,y_train,y_test=train_test_split(X,y,test_size=0.2,random_state=45)\n",
        "\n",
        "X_train.shape"
      ],
      "execution_count": 372,
      "outputs": [
        {
          "output_type": "execute_result",
          "data": {
            "text/plain": [
              "(323480, 8)"
            ]
          },
          "metadata": {
            "tags": []
          },
          "execution_count": 372
        }
      ]
    },
    {
      "cell_type": "code",
      "metadata": {
        "colab": {
          "base_uri": "https://localhost:8080/"
        },
        "id": "4UA7GsnoayzZ",
        "outputId": "bbd63590-5700-4209-f843-ef7e6d5a71e7"
      },
      "source": [
        "classifier = sklearn.linear_model.LogisticRegression(tol=0.0001, C=1.2, max_iter=1000, solver='liblinear')\n",
        "classifier.fit(X_train, y_train)\n",
        "score = classifier.score(X_train, y_train)\n",
        "print(\"Accuracy on train data with sklearn = \",score*100 ,\"%\")\n",
        "\n",
        "predictions = classifier.predict(X_test)\n",
        "score = classifier.score(X_test, y_test)\n",
        "print(\"Accuracy on test data with sklearn = \",score*100 ,\"%\")\n",
        "print(\"F1 score \",f1_score(y_test, predictions, average='weighted'))"
      ],
      "execution_count": 373,
      "outputs": [
        {
          "output_type": "stream",
          "text": [
            "Accuracy on train data with sklearn =  65.68226783726969 %\n",
            "Accuracy on test data with sklearn =  65.90990589951899 %\n",
            "F1 score  0.6465143820879312\n"
          ],
          "name": "stdout"
        }
      ]
    },
    {
      "cell_type": "markdown",
      "metadata": {
        "id": "36j1dYlQUfXl"
      },
      "source": [
        "#Fuzzy Features "
      ]
    },
    {
      "cell_type": "code",
      "metadata": {
        "id": "8RNNbhJ5RJxm"
      },
      "source": [
        "data_fuzzy=data[fs_2]\n",
        "label = data['is_duplicate']"
      ],
      "execution_count": 364,
      "outputs": []
    },
    {
      "cell_type": "code",
      "metadata": {
        "colab": {
          "base_uri": "https://localhost:8080/"
        },
        "id": "jgQgKXXDUo_N",
        "outputId": "e60758d2-118b-46b6-eca2-bda9be8bf3c6"
      },
      "source": [
        "nanIndices = np.argwhere(np.isnan(np.asarray(data_fuzzy)))\n",
        "print(nanIndices)"
      ],
      "execution_count": 365,
      "outputs": [
        {
          "output_type": "stream",
          "text": [
            "[]\n"
          ],
          "name": "stdout"
        }
      ]
    },
    {
      "cell_type": "code",
      "metadata": {
        "id": "hcSI8OaXU1p_"
      },
      "source": [
        "from sklearn.preprocessing import StandardScaler\n",
        "scaler = StandardScaler()\n",
        "# transform data\n",
        "X = scaler.fit_transform(np.asarray(data_fuzzy))"
      ],
      "execution_count": 366,
      "outputs": []
    },
    {
      "cell_type": "code",
      "metadata": {
        "colab": {
          "base_uri": "https://localhost:8080/"
        },
        "id": "NslXYJt7VKHQ",
        "outputId": "d7e2dffe-6904-4d4b-f30e-3f5748bf96da"
      },
      "source": [
        "y = np.asarray(label)\n",
        "print(X.shape)\n",
        "print(y.shape)"
      ],
      "execution_count": 367,
      "outputs": [
        {
          "output_type": "stream",
          "text": [
            "(404351, 7)\n",
            "(404351,)\n"
          ],
          "name": "stdout"
        }
      ]
    },
    {
      "cell_type": "code",
      "metadata": {
        "colab": {
          "base_uri": "https://localhost:8080/"
        },
        "id": "UzNJCzMvVLEZ",
        "outputId": "69d52b47-def8-494b-b5b1-4ca5b2098e20"
      },
      "source": [
        "X_train,X_test,y_train,y_test=train_test_split(X,y,test_size=0.2,random_state=45)\n",
        "\n",
        "X_train.shape"
      ],
      "execution_count": 368,
      "outputs": [
        {
          "output_type": "execute_result",
          "data": {
            "text/plain": [
              "(323480, 7)"
            ]
          },
          "metadata": {
            "tags": []
          },
          "execution_count": 368
        }
      ]
    },
    {
      "cell_type": "markdown",
      "metadata": {
        "id": "1_LQCDpxVT33"
      },
      "source": [
        "## Logistic regression"
      ]
    },
    {
      "cell_type": "code",
      "metadata": {
        "colab": {
          "base_uri": "https://localhost:8080/"
        },
        "id": "RFvPtEj6VQuC",
        "outputId": "8a761242-5ecd-48f7-f21d-2368dca3b0bd"
      },
      "source": [
        "classifier = sklearn.linear_model.LogisticRegression(tol=0.0001, C=1.2, max_iter=1000, solver='liblinear')\n",
        "classifier.fit(X_train, y_train)\n",
        "score = classifier.score(X_train, y_train)\n",
        "print(\"Accuracy on train data with sklearn = \",score*100 ,\"%\")\n",
        "\n",
        "predictions = classifier.predict(X_test)\n",
        "score = classifier.score(X_test, y_test)\n",
        "print(\"Accuracy on test data with sklearn = \",score*100 ,\"%\")\n",
        "print(\"F1 score \",f1_score(y_test, predictions, average='weighted'))"
      ],
      "execution_count": 369,
      "outputs": [
        {
          "output_type": "stream",
          "text": [
            "Accuracy on train data with sklearn =  66.07178187214046 %\n",
            "Accuracy on test data with sklearn =  66.39586501959911 %\n",
            "F1 score  0.6583675209135702\n"
          ],
          "name": "stdout"
        }
      ]
    },
    {
      "cell_type": "code",
      "metadata": {
        "id": "n9pAXKKzaF1G"
      },
      "source": [
        ""
      ],
      "execution_count": 369,
      "outputs": []
    },
    {
      "cell_type": "markdown",
      "metadata": {
        "id": "4QGtT925aGJ4"
      },
      "source": [
        "## Word to vec features"
      ]
    },
    {
      "cell_type": "code",
      "metadata": {
        "id": "CdiUKqo3VWVP"
      },
      "source": [
        "data_w2v=data[fs4_1]\n",
        "label = data['is_duplicate']"
      ],
      "execution_count": 298,
      "outputs": []
    },
    {
      "cell_type": "code",
      "metadata": {
        "colab": {
          "base_uri": "https://localhost:8080/"
        },
        "id": "6htKiMT6bw_a",
        "outputId": "edf4939a-de30-48d3-cb2c-8a0f75916e18"
      },
      "source": [
        "data_w2v[\"cosine_distance\"] = data_w2v[\"cosine_distance\"].fillna(data_w2v[\"cosine_distance\"].median(skipna=True))\n",
        "data_w2v[\"braycurtis_distance\"] = data_w2v[\"braycurtis_distance\"].fillna(data_w2v[\"braycurtis_distance\"].median(skipna=True))"
      ],
      "execution_count": 303,
      "outputs": [
        {
          "output_type": "stream",
          "text": [
            "/usr/local/lib/python3.7/dist-packages/ipykernel_launcher.py:1: SettingWithCopyWarning: \n",
            "A value is trying to be set on a copy of a slice from a DataFrame.\n",
            "Try using .loc[row_indexer,col_indexer] = value instead\n",
            "\n",
            "See the caveats in the documentation: https://pandas.pydata.org/pandas-docs/stable/user_guide/indexing.html#returning-a-view-versus-a-copy\n",
            "  \"\"\"Entry point for launching an IPython kernel.\n",
            "/usr/local/lib/python3.7/dist-packages/ipykernel_launcher.py:2: SettingWithCopyWarning: \n",
            "A value is trying to be set on a copy of a slice from a DataFrame.\n",
            "Try using .loc[row_indexer,col_indexer] = value instead\n",
            "\n",
            "See the caveats in the documentation: https://pandas.pydata.org/pandas-docs/stable/user_guide/indexing.html#returning-a-view-versus-a-copy\n",
            "  \n"
          ],
          "name": "stderr"
        }
      ]
    },
    {
      "cell_type": "code",
      "metadata": {
        "colab": {
          "base_uri": "https://localhost:8080/"
        },
        "id": "YN7CNEz6bGeU",
        "outputId": "9831a131-2b64-4c02-a481-26a4ee55fb60"
      },
      "source": [
        "nanIndices = np.argwhere(np.isnan(np.asarray(data_fuzzy)))\n",
        "print(nanIndices)"
      ],
      "execution_count": 304,
      "outputs": [
        {
          "output_type": "stream",
          "text": [
            "[]\n"
          ],
          "name": "stdout"
        }
      ]
    },
    {
      "cell_type": "code",
      "metadata": {
        "colab": {
          "base_uri": "https://localhost:8080/"
        },
        "id": "plaOFN3XbJ2r",
        "outputId": "16325a2d-956e-4b9b-fba2-ebfc926af24b"
      },
      "source": [
        "X = scaler.fit_transform(np.asarray(data_w2v))\n",
        "y = np.asarray(label)\n",
        "print(X.shape)\n",
        "print(y.shape)"
      ],
      "execution_count": 305,
      "outputs": [
        {
          "output_type": "stream",
          "text": [
            "(404351, 7)\n",
            "(404351,)\n"
          ],
          "name": "stdout"
        }
      ]
    },
    {
      "cell_type": "code",
      "metadata": {
        "id": "rfzuyiJCbdWV"
      },
      "source": [
        "X_train,X_test,y_train,y_test=train_test_split(X,y,test_size=0.2,random_state=45)"
      ],
      "execution_count": 306,
      "outputs": []
    },
    {
      "cell_type": "code",
      "metadata": {
        "colab": {
          "base_uri": "https://localhost:8080/"
        },
        "id": "0-Ga7gWcbgBo",
        "outputId": "f3854792-9d53-4205-d7db-3aea61df9fe9"
      },
      "source": [
        "classifier = sklearn.linear_model.LogisticRegression(tol=0.0001, C=1.2, max_iter=1000, solver='liblinear')\n",
        "classifier.fit(X_train, y_train)\n",
        "score = classifier.score(X_train, y_train)\n",
        "print(\"Accuracy on train data with sklearn = \",score*100 ,\"%\")\n",
        "\n",
        "predictions = classifier.predict(X_test)\n",
        "score = classifier.score(X_test, y_test)\n",
        "print(\"Accuracy on test data with sklearn = \",score*100 ,\"%\")\n",
        "print(\"F1 score \",f1_score(y_test, predictions, average='weighted'))"
      ],
      "execution_count": 307,
      "outputs": [
        {
          "output_type": "stream",
          "text": [
            "Accuracy on train data with sklearn =  67.05731420798813 %\n",
            "Accuracy on test data with sklearn =  67.2725698952653 %\n",
            "F1 score  0.6717785510833124\n"
          ],
          "name": "stdout"
        }
      ]
    },
    {
      "cell_type": "markdown",
      "metadata": {
        "id": "1rX-tLYvoEQ8"
      },
      "source": [
        "## Word to vec and bigram features\n"
      ]
    },
    {
      "cell_type": "markdown",
      "metadata": {
        "id": "TaiGhKeVb-BT"
      },
      "source": [
        ""
      ]
    },
    {
      "cell_type": "code",
      "metadata": {
        "colab": {
          "base_uri": "https://localhost:8080/"
        },
        "id": "vT-IUBHqoY7y",
        "outputId": "071da35b-6844-452c-d011-2b0ea6a6a5a7"
      },
      "source": [
        "data_f=data[fs4_1+[\"processed_q1\"]+[\"processed_q2\"]]\n",
        "label = data['is_duplicate']\n",
        "data_f[\"cosine_distance\"] = data_f[\"cosine_distance\"].fillna(data_f[\"cosine_distance\"].median(skipna=True))\n",
        "data_f[\"braycurtis_distance\"] = data_f[\"braycurtis_distance\"].fillna(data_f[\"braycurtis_distance\"].median(skipna=True))"
      ],
      "execution_count": 379,
      "outputs": [
        {
          "output_type": "stream",
          "text": [
            "/usr/local/lib/python3.7/dist-packages/ipykernel_launcher.py:3: SettingWithCopyWarning: \n",
            "A value is trying to be set on a copy of a slice from a DataFrame.\n",
            "Try using .loc[row_indexer,col_indexer] = value instead\n",
            "\n",
            "See the caveats in the documentation: https://pandas.pydata.org/pandas-docs/stable/user_guide/indexing.html#returning-a-view-versus-a-copy\n",
            "  This is separate from the ipykernel package so we can avoid doing imports until\n",
            "/usr/local/lib/python3.7/dist-packages/ipykernel_launcher.py:4: SettingWithCopyWarning: \n",
            "A value is trying to be set on a copy of a slice from a DataFrame.\n",
            "Try using .loc[row_indexer,col_indexer] = value instead\n",
            "\n",
            "See the caveats in the documentation: https://pandas.pydata.org/pandas-docs/stable/user_guide/indexing.html#returning-a-view-versus-a-copy\n",
            "  after removing the cwd from sys.path.\n"
          ],
          "name": "stderr"
        }
      ]
    },
    {
      "cell_type": "code",
      "metadata": {
        "id": "baf2FzB0or2u"
      },
      "source": [
        "y = np.asarray(label)"
      ],
      "execution_count": 380,
      "outputs": []
    },
    {
      "cell_type": "code",
      "metadata": {
        "id": "S901GEJdovzB"
      },
      "source": [
        "X_train,X_test,y_train,y_test=train_test_split(data_f,y,test_size=0.2,random_state=45)"
      ],
      "execution_count": 381,
      "outputs": []
    },
    {
      "cell_type": "code",
      "metadata": {
        "id": "y8RuWX89b-kV"
      },
      "source": [
        "q1_tfidf_train = tfv_q1_bi.fit_transform(X_train.processed_q1.fillna(\"\"))\n",
        "q2_tfidf_train = tfv_q2_bi.fit_transform(X_train.processed_q2.fillna(\"\"))\n",
        "q1_tfidf_test = tfv_q1_bi.fit_transform(X_test.processed_q1.fillna(\"\"))\n",
        "q2_tfidf_test = tfv_q2_bi.fit_transform(X_test.processed_q2.fillna(\"\"))\n",
        "fs3_1_train = sparse.hstack((q1_tfidf_train, q2_tfidf_train))\n",
        "fs3_1_test = sparse.hstack((q1_tfidf_test, q2_tfidf_test))"
      ],
      "execution_count": 382,
      "outputs": []
    },
    {
      "cell_type": "code",
      "metadata": {
        "id": "-UgKxTTcpK7Z"
      },
      "source": [
        "X_train=X_train[fs4_1]"
      ],
      "execution_count": 383,
      "outputs": []
    },
    {
      "cell_type": "code",
      "metadata": {
        "id": "cgsjeOLupUwR"
      },
      "source": [
        "X_sc = scaler.fit_transform(np.asarray(X_train))"
      ],
      "execution_count": 384,
      "outputs": []
    },
    {
      "cell_type": "code",
      "metadata": {
        "id": "g3XHLEgRpp4v"
      },
      "source": [
        "X_test=X_test[fs4_1]"
      ],
      "execution_count": 385,
      "outputs": []
    },
    {
      "cell_type": "code",
      "metadata": {
        "id": "QZVB5bgppynX"
      },
      "source": [
        "X_sc_test = scaler.fit_transform(np.asarray(X_test))"
      ],
      "execution_count": 386,
      "outputs": []
    },
    {
      "cell_type": "code",
      "metadata": {
        "id": "jySjpI-Pce6w"
      },
      "source": [
        "features_train=sparse.hstack((fs3_1_train, X_sc))\n",
        "features_test=sparse.hstack((fs3_1_test, X_sc_test))"
      ],
      "execution_count": 387,
      "outputs": []
    },
    {
      "cell_type": "markdown",
      "metadata": {
        "id": "FVxX2i7brpFP"
      },
      "source": [
        "### logistic regression"
      ]
    },
    {
      "cell_type": "code",
      "metadata": {
        "colab": {
          "base_uri": "https://localhost:8080/"
        },
        "id": "hRZXVN8KbmOg",
        "outputId": "163d6c0e-3a3b-43b9-af76-7b89620714a4"
      },
      "source": [
        "classifier = sklearn.linear_model.LogisticRegression(tol=0.0001, C=1.2, max_iter=1000, solver='liblinear')\n",
        "classifier.fit(features_train, y_train)\n",
        "score = classifier.score(features_train, y_train)\n",
        "print(\"Accuracy on train data with sklearn = \",score*100 ,\"%\")\n",
        "\n",
        "predictions = classifier.predict(features_test)\n",
        "score = classifier.score(features_test, y_test)\n",
        "print(\"Accuracy on test data with sklearn = \",score*100 ,\"%\")\n",
        "print(\"F1 score \",f1_score(y_test, predictions, average='weighted'))"
      ],
      "execution_count": 388,
      "outputs": [
        {
          "output_type": "stream",
          "text": [
            "Accuracy on train data with sklearn =  68.6373191541981 %\n",
            "Accuracy on test data with sklearn =  68.8058760247802 %\n",
            "F1 score  0.6859033467667521\n"
          ],
          "name": "stdout"
        }
      ]
    },
    {
      "cell_type": "markdown",
      "metadata": {
        "id": "75QKToB_q5Wg"
      },
      "source": [
        "### Fuzzy features And word to vec features and Bigram features"
      ]
    },
    {
      "cell_type": "code",
      "metadata": {
        "colab": {
          "base_uri": "https://localhost:8080/"
        },
        "id": "DiD6RgbmcNnY",
        "outputId": "585db730-9f5f-4bbb-fc02-404169e38606"
      },
      "source": [
        "data_fwb=data[fs_2+ fs4_1+[\"processed_q1\"]+[\"processed_q2\"]]\n",
        "label = data['is_duplicate']\n",
        "data_fwb[\"cosine_distance\"] = data_fwb[\"cosine_distance\"].fillna(data_fwb[\"cosine_distance\"].median(skipna=True))\n",
        "data_fwb[\"braycurtis_distance\"] = data_fwb[\"braycurtis_distance\"].fillna(data_fwb[\"braycurtis_distance\"].median(skipna=True))"
      ],
      "execution_count": 391,
      "outputs": [
        {
          "output_type": "stream",
          "text": [
            "/usr/local/lib/python3.7/dist-packages/ipykernel_launcher.py:3: SettingWithCopyWarning: \n",
            "A value is trying to be set on a copy of a slice from a DataFrame.\n",
            "Try using .loc[row_indexer,col_indexer] = value instead\n",
            "\n",
            "See the caveats in the documentation: https://pandas.pydata.org/pandas-docs/stable/user_guide/indexing.html#returning-a-view-versus-a-copy\n",
            "  This is separate from the ipykernel package so we can avoid doing imports until\n",
            "/usr/local/lib/python3.7/dist-packages/ipykernel_launcher.py:4: SettingWithCopyWarning: \n",
            "A value is trying to be set on a copy of a slice from a DataFrame.\n",
            "Try using .loc[row_indexer,col_indexer] = value instead\n",
            "\n",
            "See the caveats in the documentation: https://pandas.pydata.org/pandas-docs/stable/user_guide/indexing.html#returning-a-view-versus-a-copy\n",
            "  after removing the cwd from sys.path.\n"
          ],
          "name": "stderr"
        }
      ]
    },
    {
      "cell_type": "code",
      "metadata": {
        "id": "FdAV3ZCsrLLc"
      },
      "source": [
        "y = np.asarray(label)\n",
        "X_train,X_test,y_train,y_test=train_test_split(data_fwb,y,test_size=0.2,random_state=45)"
      ],
      "execution_count": 392,
      "outputs": []
    },
    {
      "cell_type": "code",
      "metadata": {
        "id": "1lPyiCRfr8b_"
      },
      "source": [
        "q1_tfidf_train = tfv_q1_bi.fit_transform(X_train.processed_q1.fillna(\"\"))\n",
        "q2_tfidf_train = tfv_q2_bi.fit_transform(X_train.processed_q2.fillna(\"\"))\n",
        "q1_tfidf_test = tfv_q1_bi.fit_transform(X_test.processed_q1.fillna(\"\"))\n",
        "q2_tfidf_test = tfv_q2_bi.fit_transform(X_test.processed_q2.fillna(\"\"))\n",
        "fs3_1_train = sparse.hstack((q1_tfidf_train, q2_tfidf_train))\n",
        "fs3_1_test = sparse.hstack((q1_tfidf_test, q2_tfidf_test))"
      ],
      "execution_count": 393,
      "outputs": []
    },
    {
      "cell_type": "code",
      "metadata": {
        "id": "DFEVLkRCr82H"
      },
      "source": [
        "X_train=X_train[fs4_1 + fs_2]\n",
        "X_sc = scaler.fit_transform(np.asarray(X_train))\n",
        "X_test=X_test[fs4_1 + fs_2]\n",
        "X_sc_test = scaler.fit_transform(np.asarray(X_test))"
      ],
      "execution_count": 394,
      "outputs": []
    },
    {
      "cell_type": "code",
      "metadata": {
        "id": "v1svULohE7ao"
      },
      "source": [
        "features_train=sparse.hstack((fs3_1_train, X_sc))\n",
        "features_test=sparse.hstack((fs3_1_test, X_sc_test))"
      ],
      "execution_count": 395,
      "outputs": []
    },
    {
      "cell_type": "code",
      "metadata": {
        "colab": {
          "base_uri": "https://localhost:8080/"
        },
        "id": "AvfMa0hqsjRB",
        "outputId": "be48336f-3681-4d48-8ffd-d327fb586338"
      },
      "source": [
        "classifier = sklearn.linear_model.LogisticRegression(tol=0.0001, C=1.2, max_iter=1000, solver='liblinear')\n",
        "classifier.fit(features_train, y_train)\n",
        "score = classifier.score(features_train, y_train)\n",
        "print(\"Accuracy on train data with sklearn = \",score*100 ,\"%\")\n",
        "\n",
        "predictions = classifier.predict(features_test)\n",
        "score = classifier.score(features_test, y_test)\n",
        "print(\"Accuracy on test data with sklearn = \",score*100 ,\"%\")\n",
        "print(\"F1 score \",f1_score(y_test, predictions, average='weighted'))"
      ],
      "execution_count": 396,
      "outputs": [
        {
          "output_type": "stream",
          "text": [
            "Accuracy on train data with sklearn =  68.68647211574131 %\n",
            "Accuracy on test data with sklearn =  68.89985285207305 %\n",
            "F1 score  0.687906860725369\n"
          ],
          "name": "stdout"
        }
      ]
    },
    {
      "cell_type": "markdown",
      "metadata": {
        "id": "2Wxh6-SLtBsj"
      },
      "source": [
        "## Random forest"
      ]
    },
    {
      "cell_type": "code",
      "metadata": {
        "colab": {
          "base_uri": "https://localhost:8080/"
        },
        "id": "tjIl-BjHs1jW",
        "outputId": "921ec7db-f3ac-459b-f58e-0f429bf711fb"
      },
      "source": [
        "import time\n",
        "from sklearn.ensemble import RandomForestClassifier\n",
        "\n",
        "clfr = RandomForestClassifier(n_estimators = 5)\n",
        "start_time = time.time()\n",
        "clfr.fit(X_sc, y_train)\n",
        "end_time = time.time()\n",
        "print(\"Training time: \", end_time-start_time)\n",
        "score = clfr.score(X_sc, y_train)\n",
        "print(\"Accuracy on train data with sklearn = \",score*100 ,\"%\")\n",
        "y_train_pred_rf = clfr.predict(X_sc_test)\n",
        "score = clfr.score(X_sc_test, y_test)\n",
        "print(\"Accuracy on test data with sklearn rf= \",score*100 ,\"%\")\n",
        "print(\"F1 score \",f1_score(y_test, y_train_pred_rf, average='weighted'))"
      ],
      "execution_count": 351,
      "outputs": [
        {
          "output_type": "stream",
          "text": [
            "Training time:  6.827272176742554\n",
            "Accuracy on train data with sklearn =  96.37844689007048 %\n",
            "Accuracy on test data with sklearn rf=  68.35824955793795 %\n",
            "F1 score  0.6825452923312076\n"
          ],
          "name": "stdout"
        }
      ]
    },
    {
      "cell_type": "code",
      "metadata": {
        "colab": {
          "base_uri": "https://localhost:8080/"
        },
        "id": "rBf-0hmvtXo6",
        "outputId": "bf0d0dac-f1ec-4de1-d7ff-be2f5ac48fa3"
      },
      "source": [
        "clfr = RandomForestClassifier(n_estimators = 10)\n",
        "start_time = time.time()\n",
        "clfr.fit(X_sc, y_train)\n",
        "end_time = time.time()\n",
        "print(\"Training time: \", end_time-start_time)\n",
        "score = clfr.score(X_sc, y_train)\n",
        "print(\"Accuracy on train data with sklearn = \",score*100 ,\"%\")\n",
        "y_train_pred_rf = clfr.predict(X_sc_test)\n",
        "score = clfr.score(X_sc_test, y_test)\n",
        "print(\"Accuracy on test data with sklearn rf= \",score*100 ,\"%\")\n",
        "print(\"F1 score \",f1_score(y_test, y_train_pred_rf, average='weighted'))"
      ],
      "execution_count": 352,
      "outputs": [
        {
          "output_type": "stream",
          "text": [
            "Training time:  13.465991497039795\n",
            "Accuracy on train data with sklearn =  98.25120563867937 %\n",
            "Accuracy on test data with sklearn rf=  69.45134844381793 %\n",
            "F1 score  0.6866933845343334\n"
          ],
          "name": "stdout"
        }
      ]
    },
    {
      "cell_type": "code",
      "metadata": {
        "colab": {
          "base_uri": "https://localhost:8080/"
        },
        "id": "OgEMGJgLtw_Z",
        "outputId": "812be5eb-a9d5-4bf9-8d6f-2d8d8aab72c4"
      },
      "source": [
        "clfr = RandomForestClassifier(n_estimators = 20)\n",
        "start_time = time.time()\n",
        "clfr.fit(X_sc, y_train)\n",
        "end_time = time.time()\n",
        "print(\"Training time: \", end_time-start_time)\n",
        "score = clfr.score(X_sc, y_train)\n",
        "print(\"Accuracy on train data with sklearn = \",score*100 ,\"%\")\n",
        "y_train_pred_rf = clfr.predict(X_sc_test)\n",
        "score = clfr.score(X_sc_test, y_test)\n",
        "print(\"Accuracy on test data with sklearn rf= \",score*100 ,\"%\")\n",
        "print(\"F1 score \",f1_score(y_test, y_train_pred_rf, average='weighted'))"
      ],
      "execution_count": 353,
      "outputs": [
        {
          "output_type": "stream",
          "text": [
            "Training time:  27.27974033355713\n",
            "Accuracy on train data with sklearn =  99.33689872635092 %\n",
            "Accuracy on test data with sklearn rf=  70.1450458137033 %\n",
            "F1 score  0.6971765921377587\n"
          ],
          "name": "stdout"
        }
      ]
    },
    {
      "cell_type": "markdown",
      "metadata": {
        "id": "a9pYJNnpt6TI"
      },
      "source": [
        "## Decision Tree"
      ]
    },
    {
      "cell_type": "code",
      "metadata": {
        "colab": {
          "base_uri": "https://localhost:8080/"
        },
        "id": "PHVghLhItztI",
        "outputId": "f6b3fb6b-2ecd-4959-aad1-2c9e27ca0395"
      },
      "source": [
        "from sklearn.tree import DecisionTreeClassifier\n",
        "\n",
        "clfd = DecisionTreeClassifier(criterion =\"entropy\", max_depth = 10)\n",
        "start_time = time.time()\n",
        "clfd.fit(X_sc, y_train)\n",
        "end_time = time.time()\n",
        "print(\"Training time: \", end_time-start_time)\n",
        "score = clfd.score(X_sc, y_train)\n",
        "print(\"Accuracy on train data with sklearn = \",score*100 ,\"%\")\n",
        "y_train_pred_rf = clfd.predict(X_sc_test)\n",
        "score = clfd.score(X_sc_test, y_test)\n",
        "print(\"Accuracy on test data with sklearn rf= \",score*100 ,\"%\")\n",
        "print(\"F1 score \",f1_score(y_test, y_train_pred_rf, average='weighted'))"
      ],
      "execution_count": 354,
      "outputs": [
        {
          "output_type": "stream",
          "text": [
            "Training time:  6.200486183166504\n",
            "Accuracy on train data with sklearn =  71.2489180165698 %\n",
            "Accuracy on test data with sklearn rf=  70.92530078767419 %\n",
            "F1 score  0.712448100204165\n"
          ],
          "name": "stdout"
        }
      ]
    },
    {
      "cell_type": "code",
      "metadata": {
        "colab": {
          "base_uri": "https://localhost:8080/"
        },
        "id": "utwgGs-FOS8l",
        "outputId": "39c6fb82-7e21-4f55-d92e-65c7f42988c2"
      },
      "source": [
        "from sklearn.tree import DecisionTreeClassifier\n",
        "\n",
        "clfd = DecisionTreeClassifier(criterion =\"gini\", max_depth = 15)\n",
        "start_time = time.time()\n",
        "clfd.fit(X_sc, y_train)\n",
        "end_time = time.time()\n",
        "print(\"Training time: \", end_time-start_time)\n",
        "score = clfd.score(X_sc, y_train)\n",
        "print(\"Accuracy on train data with sklearn = \",score*100 ,\"%\")\n",
        "y_train_pred_rf = clfd.predict(X_sc_test)\n",
        "score = clfd.score(X_sc_test, y_test)\n",
        "print(\"Accuracy on test data with sklearn rf= \",score*100 ,\"%\")\n",
        "print(\"F1 score \",f1_score(y_test, y_train_pred_rf, average='weighted'))"
      ],
      "execution_count": 400,
      "outputs": [
        {
          "output_type": "stream",
          "text": [
            "Training time:  5.952317714691162\n",
            "Accuracy on train data with sklearn =  75.4572152837888 %\n",
            "Accuracy on test data with sklearn rf=  70.27735529423403 %\n",
            "F1 score  0.7062581238221107\n"
          ],
          "name": "stdout"
        }
      ]
    },
    {
      "cell_type": "code",
      "metadata": {
        "colab": {
          "base_uri": "https://localhost:8080/"
        },
        "id": "40nwdgABuLSK",
        "outputId": "8832f954-7024-4639-e9ef-29a3344b3c43"
      },
      "source": [
        "clfd = DecisionTreeClassifier(criterion =\"entropy\", max_depth = 15)\n",
        "start_time = time.time()\n",
        "clfd.fit(X_sc, y_train)\n",
        "end_time = time.time()\n",
        "print(\"Training time: \", end_time-start_time)\n",
        "score = clfd.score(X_sc, y_train)\n",
        "print(\"Accuracy on train data with sklearn = \",score*100 ,\"%\")\n",
        "y_train_pred_rf = clfd.predict(X_sc_test)\n",
        "score = clfd.score(X_sc_test, y_test)\n",
        "print(\"Accuracy on test data with sklearn rf= \",score*100 ,\"%\")\n",
        "print(\"F1 score \",f1_score(y_test, y_train_pred_rf, average='weighted'))"
      ],
      "execution_count": 355,
      "outputs": [
        {
          "output_type": "stream",
          "text": [
            "Training time:  8.494362115859985\n",
            "Accuracy on train data with sklearn =  74.30783974279707 %\n",
            "Accuracy on test data with sklearn rf=  70.5432107924967 %\n",
            "F1 score  0.708033183816975\n"
          ],
          "name": "stdout"
        }
      ]
    },
    {
      "cell_type": "code",
      "metadata": {
        "colab": {
          "base_uri": "https://localhost:8080/"
        },
        "id": "fPiOXgK0MCpe",
        "outputId": "75b7bdde-dd9a-4147-8c7b-e95f7e0f3292"
      },
      "source": [
        "clfd = DecisionTreeClassifier(criterion =\"entropy\", max_depth = 20)\n",
        "start_time = time.time()\n",
        "clfd.fit(X_sc, y_train)\n",
        "end_time = time.time()\n",
        "print(\"Training time: \", end_time-start_time)\n",
        "score = clfd.score(X_sc, y_train)\n",
        "print(\"Accuracy on train data with sklearn = \",score*100 ,\"%\")\n",
        "y_train_pred_rf = clfd.predict(X_sc_test)\n",
        "score = clfd.score(X_sc_test, y_test)\n",
        "print(\"Accuracy on test data with sklearn rf= \",score*100 ,\"%\")\n",
        "print(\"F1 score \",f1_score(y_test, y_train_pred_rf, average='weighted'))"
      ],
      "execution_count": 397,
      "outputs": [
        {
          "output_type": "stream",
          "text": [
            "Training time:  10.292390584945679\n",
            "Accuracy on train data with sklearn =  79.34740942252999 %\n",
            "Accuracy on test data with sklearn rf=  69.24731980561634 %\n",
            "F1 score  0.6955448562815879\n"
          ],
          "name": "stdout"
        }
      ]
    },
    {
      "cell_type": "code",
      "metadata": {
        "id": "T9phVNU2uqpG"
      },
      "source": [
        ""
      ],
      "execution_count": null,
      "outputs": []
    },
    {
      "cell_type": "markdown",
      "metadata": {
        "id": "RV08P11kuq48"
      },
      "source": [
        "##SVM"
      ]
    },
    {
      "cell_type": "code",
      "metadata": {
        "colab": {
          "base_uri": "https://localhost:8080/"
        },
        "id": "Lxq2lOmAuAcf",
        "outputId": "f8d6695c-fe1a-4c92-8043-9144c8b20c1b"
      },
      "source": [
        "from sklearn import svm\n",
        "clsvm = svm.SVC(kernel='linear')\n",
        "clsvm.fit(X_sc[0:100000], y_train[0:100000])\n",
        "prediction_SVM_all = clsvm.predict(X_sc_test)\n",
        "score = clsvm.score(X_sc[0:100000],  y_train[0:100000])\n",
        "print(\"Accuracy on train data with sklearn svm= \",score*100 ,\"%\")\n",
        "score = clsvm.score(X_sc_test, y_test)\n",
        "print(\"Accuracy on test data with sklearn svm= \",score*100 ,\"%\")\n",
        "print(\"F1 score \",f1_score(y_test, prediction_SVM_all, average='weighted'))"
      ],
      "execution_count": 357,
      "outputs": [
        {
          "output_type": "stream",
          "text": [
            "Accuracy on train data with sklearn svm=  67.56299999999999 %\n",
            "Accuracy on test data with sklearn svm=  67.60025225358905 %\n",
            "F1 score  0.6777150387816205\n"
          ],
          "name": "stdout"
        }
      ]
    },
    {
      "cell_type": "code",
      "metadata": {
        "colab": {
          "base_uri": "https://localhost:8080/"
        },
        "id": "NJWdmgBvSujt",
        "outputId": "0032a02e-dcb1-4509-8971-c4cf69a67f2a"
      },
      "source": [
        "from sklearn import svm\n",
        "clsvm = svm.SVC(kernel='linear',C=0.01)\n",
        "clsvm.fit(X_sc[0:100000], y_train[0:100000])\n",
        "prediction_SVM_all = clsvm.predict(X_sc_test)\n",
        "score = clsvm.score(X_sc[0:100000],  y_train[0:100000])\n",
        "print(\"Accuracy on train data with sklearn svm= \",score*100 ,\"%\")\n",
        "score = clsvm.score(X_sc_test, y_test)\n",
        "print(\"Accuracy on test data with sklearn svm= \",score*100 ,\"%\")\n",
        "print(\"F1 score \",f1_score(y_test, prediction_SVM_all, average='weighted'))"
      ],
      "execution_count": 402,
      "outputs": [
        {
          "output_type": "stream",
          "text": [
            "Accuracy on train data with sklearn svm=  67.542 %\n",
            "Accuracy on test data with sklearn svm=  67.63363875802203 %\n",
            "F1 score  0.6781472359969822\n"
          ],
          "name": "stdout"
        }
      ]
    },
    {
      "cell_type": "code",
      "metadata": {
        "colab": {
          "base_uri": "https://localhost:8080/"
        },
        "id": "jVoaHfcGSy8A",
        "outputId": "c2ab9c05-9fc4-452f-d0e4-3924dc674a97"
      },
      "source": [
        "from sklearn import svm\n",
        "clsvm = svm.SVC(kernel='linear',C=0.1)\n",
        "clsvm.fit(X_sc[0:100000], y_train[0:100000])\n",
        "prediction_SVM_all = clsvm.predict(X_sc_test)\n",
        "score = clsvm.score(X_sc[0:100000],  y_train[0:100000])\n",
        "print(\"Accuracy on train data with sklearn svm= \",score*100 ,\"%\")\n",
        "score = clsvm.score(X_sc_test, y_test)\n",
        "print(\"Accuracy on test data with sklearn svm= \",score*100 ,\"%\")\n",
        "print(\"F1 score \",f1_score(y_test, prediction_SVM_all, average='weighted'))"
      ],
      "execution_count": 403,
      "outputs": [
        {
          "output_type": "stream",
          "text": [
            "Accuracy on train data with sklearn svm=  67.572 %\n",
            "Accuracy on test data with sklearn svm=  67.59530610478416 %\n",
            "F1 score  0.6777502213413245\n"
          ],
          "name": "stdout"
        }
      ]
    },
    {
      "cell_type": "code",
      "metadata": {
        "colab": {
          "base_uri": "https://localhost:8080/"
        },
        "id": "LvFQ40WtvKu-",
        "outputId": "4ddab2c9-2cb2-4a36-d20a-4a333cf871fa"
      },
      "source": [
        "from sklearn import svm\n",
        "clsvm = svm.SVC(kernel='rbf')\n",
        "clsvm.fit(X_sc[0:50000], y_train[0:50000])\n",
        "prediction_SVM_all = clsvm.predict(X_sc_test)\n",
        "score = clsvm.score(X_sc[0:50000],  y_train[0:50000])\n",
        "print(\"Accuracy on train data with sklearn svm= \",score*100 ,\"%\")\n",
        "score = clsvm.score(X_sc_test, y_test)\n",
        "print(\"Accuracy on test data with sklearn svm= \",score*100 ,\"%\")\n",
        "print(\"F1 score \",f1_score(y_test, prediction_SVM_all, average='weighted'))"
      ],
      "execution_count": 401,
      "outputs": [
        {
          "output_type": "stream",
          "text": [
            "Accuracy on train data with sklearn svm=  70.822 %\n",
            "Accuracy on test data with sklearn svm=  70.7769163235276 %\n",
            "F1 score  0.70815675599594\n"
          ],
          "name": "stdout"
        }
      ]
    },
    {
      "cell_type": "code",
      "metadata": {
        "id": "7a0HIWcqXw0e"
      },
      "source": [
        "from sklearn import svm\n",
        "clsvm = svm.SVC(kernel='rbf')\n",
        "clsvm.fit(X_sc[0:50000], y_train[0:50000])\n",
        "prediction_SVM_all = clsvm.predict(X_sc_test)\n",
        "score = clsvm.score(X_sc[0:50000],  y_train[0:50000])\n",
        "print(\"Accuracy on train data with sklearn svm= \",score*100 ,\"%\")\n",
        "score = clsvm.score(X_sc_test, y_test)\n",
        "print(\"Accuracy on test data with sklearn svm= \",score*100 ,\"%\")\n",
        "print(\"F1 score \",f1_score(y_test, prediction_SVM_all, average='weighted'))"
      ],
      "execution_count": null,
      "outputs": []
    },
    {
      "cell_type": "code",
      "metadata": {
        "id": "RvF3sC8-RHTp"
      },
      "source": [
        ""
      ],
      "execution_count": null,
      "outputs": []
    }
  ]
}